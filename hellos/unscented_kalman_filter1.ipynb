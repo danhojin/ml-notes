{
 "cells": [
  {
   "cell_type": "markdown",
   "metadata": {},
   "source": [
    "## Unscented transform"
   ]
  },
  {
   "cell_type": "code",
   "execution_count": 2,
   "metadata": {},
   "outputs": [],
   "source": [
    "import numpy as np\n",
    "from scipy import linalg"
   ]
  },
  {
   "cell_type": "code",
   "execution_count": 5,
   "metadata": {},
   "outputs": [],
   "source": [
    "# https://docs.scipy.org/doc/numpy/reference/generated/numpy.matmul.html\n",
    "\n",
    "m = np.array([12.3, 7.6])\n",
    "P = np.array([[1.44, 0], [0, 2.89]])"
   ]
  },
  {
   "cell_type": "code",
   "execution_count": 6,
   "metadata": {},
   "outputs": [
    {
     "data": {
      "text/plain": [
       "array([[1.2, 0. ],\n",
       "       [0. , 1.7]])"
      ]
     },
     "execution_count": 6,
     "metadata": {},
     "output_type": "execute_result"
    }
   ],
   "source": [
    "linalg.sqrtm(P)"
   ]
  },
  {
   "cell_type": "code",
   "execution_count": 52,
   "metadata": {},
   "outputs": [
    {
     "data": {
      "text/plain": [
       "-1.98"
      ]
     },
     "execution_count": 52,
     "metadata": {},
     "output_type": "execute_result"
    }
   ],
   "source": [
    "alpha = 1e-1\n",
    "beta = 2\n",
    "kappa = 0\n",
    "\n",
    "L = 2\n",
    "\n",
    "lambda_ = alpha**2 * (L + kappa) - L\n",
    "lambda_"
   ]
  },
  {
   "cell_type": "code",
   "execution_count": 53,
   "metadata": {},
   "outputs": [],
   "source": [
    "Chi = [0]\n",
    "Chi += [np.sqrt((L + lambda_)*1.44), np.sqrt((L + lambda_)*2.89)]\n",
    "Chi += [-np.sqrt((L + lambda_)*1.44), -np.sqrt((L + lambda_)*2.89)]\n",
    "Chi = np.array([m + w for w in Chi])\n",
    "\n",
    "W_0m = [lambda_/(L + lambda_)]\n",
    "W_0m += [1.0 / 2.0 / (L + lambda_)] * 4\n",
    "W_0c = [lambda_/(L + lambda_) + (1 - alpha**2 + beta)]\n",
    "W_0c += [1.0 / 2.0 / (L + lambda_)] * 4\n",
    "\n",
    "W_0m = np.array(W_0m)\n",
    "W_0c = np.array(W_0c)"
   ]
  },
  {
   "cell_type": "markdown",
   "metadata": {},
   "source": [
    "The transformation function to polar coordinates,\n",
    "\n",
    "\\begin{align}\n",
    "r &= \\sqrt{x^2 + y^2} \\\\\n",
    "\\theta &= \\arctan{ \\frac{y}{x} }\n",
    "\\end{align}"
   ]
  },
  {
   "cell_type": "code",
   "execution_count": 55,
   "metadata": {},
   "outputs": [
    {
     "data": {
      "text/plain": [
       "array([[14.45856148,  0.5534674 ],\n",
       "       [14.6922389 ,  0.55722215],\n",
       "       [14.78966426,  0.55875161],\n",
       "       [14.22509459,  0.54958933],\n",
       "       [14.12788134,  0.54793565]])"
      ]
     },
     "execution_count": 55,
     "metadata": {},
     "output_type": "execute_result"
    }
   ],
   "source": [
    "def transform(xy):\n",
    "    x, y = xy[0], xy[1]\n",
    "    return np.sqrt(x**2 + y**2), np.arctan(y / x)\n",
    "\n",
    "rtheta = np.array(list(map(transform, Chi[:])))\n",
    "rtheta"
   ]
  },
  {
   "cell_type": "code",
   "execution_count": 56,
   "metadata": {},
   "outputs": [
    {
     "data": {
      "text/plain": [
       "array([14.47439091,  0.54419659])"
      ]
     },
     "execution_count": 56,
     "metadata": {},
     "output_type": "execute_result"
    }
   ],
   "source": [
    "rtheta_mean = sum([W_0m[i] * rtheta[i, :] for i in range(5)])\n",
    "rtheta_mean"
   ]
  },
  {
   "cell_type": "code",
   "execution_count": 57,
   "metadata": {},
   "outputs": [
    {
     "data": {
      "text/plain": [
       "array([[-0.01582943,  0.00927081],\n",
       "       [ 0.217848  ,  0.01302556],\n",
       "       [ 0.31527335,  0.01455502],\n",
       "       [-0.24929632,  0.00539274],\n",
       "       [-0.34650957,  0.00373906]])"
      ]
     },
     "execution_count": 57,
     "metadata": {},
     "output_type": "execute_result"
    }
   ],
   "source": [
    "rtheta_del = rtheta - rtheta_mean\n",
    "rtheta_del"
   ]
  },
  {
   "cell_type": "code",
   "execution_count": 58,
   "metadata": {},
   "outputs": [
    {
     "data": {
      "text/plain": [
       "array([[8.20275707e+00, 1.33749386e-01],\n",
       "       [1.33749386e-01, 2.36255301e-03]])"
      ]
     },
     "execution_count": 58,
     "metadata": {},
     "output_type": "execute_result"
    }
   ],
   "source": [
    "sum([W_0c[i] * np.outer(rtheta_del[i,:], rtheta_del[i,:]) for i in range(5)])"
   ]
  },
  {
   "cell_type": "code",
   "execution_count": null,
   "metadata": {},
   "outputs": [],
   "source": []
  }
 ],
 "metadata": {
  "kernelspec": {
   "display_name": "Python 3",
   "language": "python",
   "name": "python3"
  },
  "language_info": {
   "codemirror_mode": {
    "name": "ipython",
    "version": 3
   },
   "file_extension": ".py",
   "mimetype": "text/x-python",
   "name": "python",
   "nbconvert_exporter": "python",
   "pygments_lexer": "ipython3",
   "version": "3.7.6"
  }
 },
 "nbformat": 4,
 "nbformat_minor": 4
}
