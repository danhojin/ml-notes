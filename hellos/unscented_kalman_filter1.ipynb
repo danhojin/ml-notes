{
 "cells": [
  {
   "cell_type": "markdown",
   "metadata": {},
   "source": [
    "## Unscented transform"
   ]
  },
  {
   "cell_type": "code",
   "execution_count": 1,
   "metadata": {},
   "outputs": [],
   "source": [
    "import numpy as np\n",
    "from scipy import linalg"
   ]
  },
  {
   "cell_type": "code",
   "execution_count": 2,
   "metadata": {},
   "outputs": [],
   "source": [
    "# https://docs.scipy.org/doc/numpy/reference/generated/numpy.matmul.html\n",
    "\n",
    "m = np.array([12.3, 7.6])\n",
    "P = np.array([[1.44, 0], [0, 2.89]])"
   ]
  },
  {
   "cell_type": "code",
   "execution_count": 3,
   "metadata": {},
   "outputs": [
    {
     "data": {
      "text/plain": [
       "array([[1.2, 0. ],\n",
       "       [0. , 1.7]])"
      ]
     },
     "execution_count": 3,
     "metadata": {},
     "output_type": "execute_result"
    }
   ],
   "source": [
    "linalg.sqrtm(P)"
   ]
  },
  {
   "cell_type": "code",
   "execution_count": 49,
   "metadata": {},
   "outputs": [
    {
     "data": {
      "text/plain": [
       "array([[1.2, 0. ],\n",
       "       [0. , 1.7]])"
      ]
     },
     "execution_count": 49,
     "metadata": {},
     "output_type": "execute_result"
    }
   ],
   "source": [
    "L_P = linalg.cholesky(P)\n",
    "L_P"
   ]
  },
  {
   "cell_type": "code",
   "execution_count": null,
   "metadata": {},
   "outputs": [],
   "source": []
  },
  {
   "cell_type": "code",
   "execution_count": 38,
   "metadata": {},
   "outputs": [
    {
     "data": {
      "text/plain": [
       "(0.8799999999999999, 2.88)"
      ]
     },
     "execution_count": 38,
     "metadata": {},
     "output_type": "execute_result"
    }
   ],
   "source": [
    "alpha = 1.2\n",
    "beta = 2\n",
    "kappa = 0\n",
    "\n",
    "L = 2\n",
    "\n",
    "lambda_ = alpha**2 * (L + kappa) - L\n",
    "lambda_, lambda_ + L"
   ]
  },
  {
   "cell_type": "code",
   "execution_count": 39,
   "metadata": {},
   "outputs": [],
   "source": [
    "Chi = [0]\n",
    "Chi += [np.sqrt((L + lambda_)*1.44), np.sqrt((L + lambda_)*2.89)]\n",
    "Chi += [-np.sqrt((L + lambda_)*1.44), -np.sqrt((L + lambda_)*2.89)]\n",
    "Chi = np.array([m + w for w in Chi])\n",
    "\n",
    "W_0m = [lambda_/(L + lambda_)]\n",
    "W_0m += [1.0 / 2.0 / (L + lambda_)] * 4\n",
    "W_0c = [lambda_/(L + lambda_) + (1 - alpha**2 + beta)]\n",
    "W_0c += [1.0 / 2.0 / (L + lambda_)] * 4\n",
    "\n",
    "W_0m = np.array(W_0m)\n",
    "W_0c = np.array(W_0c)"
   ]
  },
  {
   "cell_type": "code",
   "execution_count": 40,
   "metadata": {},
   "outputs": [
    {
     "data": {
      "text/plain": [
       "(array([[12.3       ,  7.6       ],\n",
       "        [14.33646753,  9.63646753],\n",
       "        [15.18499567, 10.48499567],\n",
       "        [10.26353247,  5.56353247],\n",
       "        [ 9.41500433,  4.71500433]]),\n",
       " array([0.30555556, 0.17361111, 0.17361111, 0.17361111, 0.17361111]),\n",
       " array([1.86555556, 0.17361111, 0.17361111, 0.17361111, 0.17361111]))"
      ]
     },
     "execution_count": 40,
     "metadata": {},
     "output_type": "execute_result"
    }
   ],
   "source": [
    "Chi, W_0m, W_0c"
   ]
  },
  {
   "cell_type": "markdown",
   "metadata": {},
   "source": [
    "The transformation function to polar coordinates,\n",
    "\n",
    "\\begin{align}\n",
    "r &= \\sqrt{x^2 + y^2} \\\\\n",
    "\\theta &= \\arctan{ \\frac{y}{x} }\n",
    "\\end{align}"
   ]
  },
  {
   "cell_type": "code",
   "execution_count": 41,
   "metadata": {},
   "outputs": [
    {
     "data": {
      "text/plain": [
       "array([[14.45856148,  0.5534674 ],\n",
       "       [17.27413696,  0.59179929],\n",
       "       [18.45316308,  0.60431076],\n",
       "       [11.67445897,  0.49673299],\n",
       "       [10.52965206,  0.46428487]])"
      ]
     },
     "execution_count": 41,
     "metadata": {},
     "output_type": "execute_result"
    }
   ],
   "source": [
    "def transform(xy):\n",
    "    x, y = xy[0], xy[1]\n",
    "    return np.sqrt(x**2 + y**2), np.arctan(y / x)\n",
    "\n",
    "rtheta = np.array(list(map(transform, Chi[:])))\n",
    "rtheta"
   ]
  },
  {
   "cell_type": "code",
   "execution_count": 42,
   "metadata": {},
   "outputs": [
    {
     "data": {
      "text/plain": [
       "array([14.47543043,  0.54361641])"
      ]
     },
     "execution_count": 42,
     "metadata": {},
     "output_type": "execute_result"
    }
   ],
   "source": [
    "rtheta_mean = sum([W_0m[i] * rtheta[i, :] for i in range(5)])\n",
    "rtheta_mean"
   ]
  },
  {
   "cell_type": "code",
   "execution_count": 43,
   "metadata": {},
   "outputs": [
    {
     "data": {
      "text/plain": [
       "array([[-0.01686895,  0.00985099],\n",
       "       [ 2.79870653,  0.04818288],\n",
       "       [ 3.97773265,  0.06069435],\n",
       "       [-2.80097146, -0.04688342],\n",
       "       [-3.94577837, -0.07933154]])"
      ]
     },
     "execution_count": 43,
     "metadata": {},
     "output_type": "execute_result"
    }
   ],
   "source": [
    "rtheta_del = rtheta - rtheta_mean\n",
    "rtheta_del"
   ]
  },
  {
   "cell_type": "code",
   "execution_count": 44,
   "metadata": {},
   "outputs": [
    {
     "data": {
      "text/plain": [
       "array([[8.17235783e+00, 1.42158637e-01],\n",
       "       [1.42158637e-01, 2.69786723e-03]])"
      ]
     },
     "execution_count": 44,
     "metadata": {},
     "output_type": "execute_result"
    }
   ],
   "source": [
    "sum([W_0c[i] * np.outer(rtheta_del[i,:], rtheta_del[i,:]) for i in range(5)])"
   ]
  },
  {
   "cell_type": "code",
   "execution_count": 45,
   "metadata": {},
   "outputs": [],
   "source": [
    "import pandas as pd"
   ]
  },
  {
   "cell_type": "code",
   "execution_count": 46,
   "metadata": {},
   "outputs": [
    {
     "data": {
      "text/html": [
       "<div>\n",
       "<style scoped>\n",
       "    .dataframe tbody tr th:only-of-type {\n",
       "        vertical-align: middle;\n",
       "    }\n",
       "\n",
       "    .dataframe tbody tr th {\n",
       "        vertical-align: top;\n",
       "    }\n",
       "\n",
       "    .dataframe thead th {\n",
       "        text-align: right;\n",
       "    }\n",
       "</style>\n",
       "<table border=\"1\" class=\"dataframe\">\n",
       "  <thead>\n",
       "    <tr style=\"text-align: right;\">\n",
       "      <th></th>\n",
       "      <th>step</th>\n",
       "      <th>value</th>\n",
       "    </tr>\n",
       "  </thead>\n",
       "  <tbody>\n",
       "    <tr>\n",
       "      <th>0</th>\n",
       "      <td>0</td>\n",
       "      <td>1.200000</td>\n",
       "    </tr>\n",
       "    <tr>\n",
       "      <th>1</th>\n",
       "      <td>1</td>\n",
       "      <td>1.085805</td>\n",
       "    </tr>\n",
       "    <tr>\n",
       "      <th>2</th>\n",
       "      <td>2</td>\n",
       "      <td>0.982477</td>\n",
       "    </tr>\n",
       "    <tr>\n",
       "      <th>3</th>\n",
       "      <td>3</td>\n",
       "      <td>0.888982</td>\n",
       "    </tr>\n",
       "    <tr>\n",
       "      <th>4</th>\n",
       "      <td>4</td>\n",
       "      <td>0.804384</td>\n",
       "    </tr>\n",
       "  </tbody>\n",
       "</table>\n",
       "</div>"
      ],
      "text/plain": [
       "   step     value\n",
       "0     0  1.200000\n",
       "1     1  1.085805\n",
       "2     2  0.982477\n",
       "3     3  0.888982\n",
       "4     4  0.804384"
      ]
     },
     "execution_count": 46,
     "metadata": {},
     "output_type": "execute_result"
    }
   ],
   "source": [
    "df = pd.read_csv('./data/mgdata.csv')\n",
    "df.head()"
   ]
  },
  {
   "cell_type": "code",
   "execution_count": 48,
   "metadata": {},
   "outputs": [
    {
     "data": {
      "text/plain": [
       "<matplotlib.axes._subplots.AxesSubplot at 0x7f9f0f305590>"
      ]
     },
     "execution_count": 48,
     "metadata": {},
     "output_type": "execute_result"
    },
    {
     "data": {
      "image/png": "[encoded data removed]",
      "text/plain": [
       "<Figure size 432x288 with 1 Axes>"
      ]
     },
     "metadata": {
      "needs_background": "light"
     },
     "output_type": "display_data"
    }
   ],
   "source": [
    "df['value'].iloc[200:300].plot()"
   ]
  },
  {
   "cell_type": "code",
   "execution_count": 50,
   "metadata": {},
   "outputs": [],
   "source": [
    "from filterpy import kalman"
   ]
  },
  {
   "cell_type": "code",
   "execution_count": 51,
   "metadata": {},
   "outputs": [],
   "source": [
    "def fx(x, dt):\n",
    "    F = np.array([\n",
    "        [1, dt, 0, 0],\n",
    "        [0, 1, 0, 0],\n",
    "        [0, 0, 1, dt],\n",
    "        [0, 0, 0, 1],\n",
    "    ], dtype=np.float)\n",
    "    return np.dot(F, x)\n",
    "\n",
    "def hx(x):\n",
    "    return np.array([x[0], x[2]])"
   ]
  },
  {
   "cell_type": "code",
   "execution_count": 52,
   "metadata": {},
   "outputs": [
    {
     "data": {
      "text/plain": [
       "MerweScaledSigmaPoints object\n",
       "n = 4\n",
       "alpha = 0.1\n",
       "beta = 2.0\n",
       "kappa = -1.0\n",
       "Wm = [-132.33333333   16.66666667   16.66666667   16.66666667   16.66666667\n",
       "        16.66666667   16.66666667   16.66666667   16.66666667]\n",
       "Wc = [-129.34333333   16.66666667   16.66666667   16.66666667   16.66666667\n",
       "        16.66666667   16.66666667   16.66666667   16.66666667]\n",
       "subtract = <ufunc 'subtract'>\n",
       "sqrt = <function cholesky at 0x7f9f1f0245f0>"
      ]
     },
     "execution_count": 52,
     "metadata": {},
     "output_type": "execute_result"
    }
   ],
   "source": [
    "dt = 0.1\n",
    "points = kalman.MerweScaledSigmaPoints(4, alpha=0.1, beta=2.0, kappa=-1.0)\n",
    "points"
   ]
  },
  {
   "cell_type": "code",
   "execution_count": 55,
   "metadata": {},
   "outputs": [
    {
     "data": {
      "text/plain": [
       "0.2713372923443942"
      ]
     },
     "execution_count": 55,
     "metadata": {},
     "output_type": "execute_result"
    }
   ],
   "source": [
    "np.random.randn()"
   ]
  },
  {
   "cell_type": "code",
   "execution_count": 56,
   "metadata": {},
   "outputs": [
    {
     "name": "stdout",
     "output_type": "stream",
     "text": [
      "[-0.03266001  1.08587525  0.18207762  1.1071364 ] log-likelihood -5.28269100698677\n",
      "[0.53473954 1.89990089 0.67253215 1.7808738 ] log-likelihood -26.12859126038287\n",
      "[1.28975822 3.60310599 1.35671746 3.30644012] log-likelihood -64.38049328881148\n",
      "[2.26536946 5.52981534 2.35962585 5.41152169] log-likelihood -94.94523110074631\n",
      "[3.40206454 7.18032722 3.52890202 7.18760884] log-likelihood -88.96238553211425\n",
      "[4.41417959 7.90840272 4.63218201 8.13958359] log-likelihood -31.26901878041742\n",
      "[5.51988955 8.59124461 5.66142428 8.60645886] log-likelihood -22.7636461742188\n",
      "[6.65175502 9.11391965 6.67485558 8.89925356] log-likelihood -18.200599723212733\n",
      "[7.71763992 9.37824677 7.72135947 9.16714901] log-likelihood -10.019367313278007\n",
      "[8.78260825 9.5743612  8.73382366 9.31483877] log-likelihood -5.437734916878038\n",
      "[9.8637405  9.74787217 9.78250969 9.47924052] log-likelihood -8.28351880549765\n",
      "[10.954779    9.89729823 10.83738691  9.61671505] log-likelihood -8.414818421683044\n",
      "[11.96221438  9.91829109 11.88525398  9.71891406] log-likelihood -1.4777306694383099\n",
      "[12.95983592  9.92466292 12.89110972  9.75627573] log-likelihood 1.778967560128267\n",
      "[13.95988139  9.93243728 13.880057    9.76993847] log-likelihood 2.337466414728208\n",
      "[14.99254566  9.97031135 14.87832067  9.79037388] log-likelihood 0.9743010681352979\n",
      "[15.97689214  9.95885117 15.86353319  9.79595291] log-likelihood 2.3552324844004517\n",
      "[16.96442032  9.95172618 16.86177406  9.81184982] log-likelihood 2.1353930714506784\n",
      "[17.96989369  9.96004004 17.84481949  9.81335142] log-likelihood 2.4341761172254395\n",
      "[18.94699945  9.94555935 18.85584749  9.83610343] log-likelihood 1.0757451518250556\n",
      "[19.95176857  9.95300812 19.89558789  9.87704066] log-likelihood -1.7404970583174855\n",
      "[20.96057582  9.9624062  20.89688824  9.88650128] log-likelihood 2.0475155805939798\n",
      "[21.96364617  9.96694993 21.92074129  9.90992127] log-likelihood 0.5423846116507849\n",
      "[22.9757948   9.97679922 22.94657558  9.93212773] log-likelihood 0.07634822918755368\n",
      "[23.98095852  9.98137698 23.93248342  9.92765938] log-likelihood 2.3984689179377434\n",
      "[24.98125988  9.98264933 24.96491822  9.95098689] log-likelihood -0.6086307430102522\n",
      "[25.96908782  9.97673969 25.95883296  9.95031651] log-likelihood 2.373859018934088\n",
      "[26.97499875  9.981237   26.95936011  9.95331701] log-likelihood 2.3898976403790244\n",
      "[27.98290474  9.98639425 27.96272524  9.95755226] log-likelihood 2.219867505248898\n",
      "[29.00602085  9.99887032 28.97909783  9.96806118] log-likelihood -0.15524511703313815\n",
      "[30.00102899  9.9964631  29.97270611  9.96648339] log-likelihood 2.537319078361208\n",
      "[30.99382417  9.9931873  30.97125415  9.96739171] log-likelihood 2.483750693845925\n",
      "[31.99802256  9.99545076 31.97216761  9.96932797] log-likelihood 2.508319623479661\n",
      "[33.00115931  9.99706864 32.95018235  9.96080626] log-likelihood 1.3509358740037698\n",
      "[34.00866836 10.00048493 33.94878311  9.96190973] log-likelihood 2.4020669848933123\n",
      "[34.97495672  9.98610254 34.94283806  9.96099975] log-likelihood -1.8314504845576325\n",
      "[35.96114203  9.98094799 35.96037989  9.96989502] log-likelihood 0.1150380660499759\n",
      "[36.97387654  9.98686721 36.94974066  9.96681052] log-likelihood 1.4707684358101416\n",
      "[37.97135877  9.98639218 37.94368685  9.96573194] log-likelihood 2.62199346200589\n",
      "[38.97050515  9.98658743 38.9431152   9.96683112] log-likelihood 2.624979482928943\n",
      "[39.97273399  9.9879301  39.94273408  9.96793523] log-likelihood 2.559680547066786\n",
      "[40.98718464  9.99368685 40.94049784  9.96829195] log-likelihood 1.36142406272212\n",
      "[41.99477758  9.99664494 41.95353557  9.97412182] log-likelihood 0.8325508887853834\n",
      "[43.00343015  9.99980969 42.95632259  9.97601433] log-likelihood 2.0357350064395794\n",
      "[43.99647272  9.99741652 43.95555666  9.97657745] log-likelihood 2.367446423853673\n",
      "[45.01583497 10.00405003 44.96573678  9.98081113] log-likelihood -0.7627639683927945\n",
      "[46.0068675  10.0009421  45.95862964  9.97909069] log-likelihood 1.920499759928313\n",
      "[46.99550003  9.99721205 46.94474612  9.97525296] log-likelihood 0.8172702346760468\n",
      "[47.99376887  9.99674792 47.93460376  9.97280259] log-likelihood 2.2469121508459735\n",
      "[48.98926044  9.99543441 48.94078379  9.97559706] log-likelihood 1.9643560103903102\n"
     ]
    }
   ],
   "source": [
    "from filterpy.common import Q_discrete_white_noise\n",
    "\n",
    "\n",
    "kf = kalman.UnscentedKalmanFilter(dim_x=4, dim_z=2, dt=dt, fx=fx, hx=hx, points=points)\n",
    "kf.x = np.array([-1, 1.0, -1.0, 1.0])\n",
    "kf.P *= 0.2\n",
    "z_std = 0.1\n",
    "kf.R = np.diag([z_std**2, z_std**2])\n",
    "kf.Q = Q_discrete_white_noise(dim=2, dt=dt, var=0.01**2, block_size=2)\n",
    "zs = [[i+np.random.randn()*z_std, i+np.random.randn()*z_std] for i in range(50)]\n",
    "for z in zs:\n",
    "    kf.predict()\n",
    "    kf.update(z)\n",
    "    print(kf.x, 'log-likelihood', kf.log_likelihood)"
   ]
  },
  {
   "cell_type": "code",
   "execution_count": null,
   "metadata": {},
   "outputs": [],
   "source": []
  }
 ],
 "metadata": {
  "kernelspec": {
   "display_name": "Python 3",
   "language": "python",
   "name": "python3"
  },
  "language_info": {
   "codemirror_mode": {
    "name": "ipython",
    "version": 3
   },
   "file_extension": ".py",
   "mimetype": "text/x-python",
   "name": "python",
   "nbconvert_exporter": "python",
   "pygments_lexer": "ipython3",
   "version": "3.7.5"
  }
 },
 "nbformat": 4,
 "nbformat_minor": 4
}
