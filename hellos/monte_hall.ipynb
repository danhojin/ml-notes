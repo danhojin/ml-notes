{
 "cells": [
  {
   "cell_type": "markdown",
   "metadata": {},
   "source": [
    "# 몬테 홀 문제"
   ]
  },
  {
   "cell_type": "code",
   "execution_count": 1,
   "metadata": {},
   "outputs": [],
   "source": [
    "from sympy import Rational"
   ]
  },
  {
   "cell_type": "markdown",
   "metadata": {},
   "source": [
    "참가자가 임의로 문1을 선택하고, 진행자가 2를 연다고 하자. 진행자는 삼품의 위치를 알고 있기에 $P(2 | 1)$ 확률에 중요한 정보가 들어간다. \n",
    "\n",
    "\\begin{equation}\n",
    "P(1|2) = P(H=1)P(D=2|H=1) / P(D=2)\n",
    "\\end{equation}\n",
    "\n",
    "2에 삼품이 있었다면 열 수 없으므로, 1에 상품이 있는 경우 $P(2 | 1) =  1/ 2$ 이고, 3에 상품이 있을 경우 $P(2 | 1) =  1$이 된다. 따라서 분모 $P(D=2)$는,\n",
    "\n",
    "\\begin{align}\n",
    "P(D=2) &= P(H=1, D=2) + P(H=3, D=2) \\\\\n",
    "&= P(H=1) P(D=2 | H=1) + P(H=3) P(D=2 | H=3)\n",
    "\\end{align}"
   ]
  },
  {
   "cell_type": "code",
   "execution_count": 5,
   "metadata": {},
   "outputs": [
    {
     "data": {
      "text/latex": [
       "$\\displaystyle \\frac{1}{3}$"
      ],
      "text/plain": [
       "1/3"
      ]
     },
     "execution_count": 5,
     "metadata": {},
     "output_type": "execute_result"
    }
   ],
   "source": [
    "(Rational(1, 3) * Rational(1, 2) / \n",
    " (Rational(1, 3) * Rational(1, 2) + Rational(1, 3) * Rational(1, 1)))"
   ]
  },
  {
   "cell_type": "markdown",
   "metadata": {},
   "source": [
    "문2를 연 후 새로운 문을 임의로 선택하여 $1/2$을 기대하는 것보다 못하므로, 문을 3으로 바꾸는 것이 좋다."
   ]
  }
 ],
 "metadata": {
  "kernelspec": {
   "display_name": "Python 3",
   "language": "python",
   "name": "python3"
  },
  "language_info": {
   "codemirror_mode": {
    "name": "ipython",
    "version": 3
   },
   "file_extension": ".py",
   "mimetype": "text/x-python",
   "name": "python",
   "nbconvert_exporter": "python",
   "pygments_lexer": "ipython3",
   "version": "3.7.5"
  }
 },
 "nbformat": 4,
 "nbformat_minor": 4
}
