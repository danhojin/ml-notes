{
 "cells": [
  {
   "cell_type": "markdown",
   "metadata": {},
   "source": [
    "following https://github.com/rlabbe/Kalman-and-Bayesian-Filters-in-Python/blob/master/04-One-Dimensional-Kalman-Filters.ipynb"
   ]
  },
  {
   "cell_type": "markdown",
   "metadata": {},
   "source": [
    "## Kalman Gain\n",
    "\n",
    "\\begin{align}\n",
    "\\mu &= \\frac{\\bar \\sigma^2 \\mu_z + \\sigma_z^2 \\bar \\mu}{\\bar \\sigma^2 + \\sigma_z^2} \\\\\n",
    "&= \\bar \\mu + K (\\mu_z - \\bar \\mu)\n",
    "\\end{align}\n",
    "\n",
    "where the Kalman gain is defined as $K=\\frac{\\bar \\sigma^2}{\\bar \\sigma^2 + \\sigma_z^2}$. 관측이 믿을만한 경우 $\\sigma_z \\rightarrow 0$이고, $K \\rightarrow 1$이라 관측 결과를 그대로 읽으면 된다. 즉 $\\mu \\rightarrow \\mu_z$가 된다. 반대인 경우 관측 분산이 상대적으로 커서 관측 결과를 내부 상태의 반영으로 그대로 간주하기 힘들기에 $K \\rightarrow 0$이 되어 $\\mu \\rightarrow \\bar \\mu$가 된다."
   ]
  },
  {
   "cell_type": "markdown",
   "metadata": {},
   "source": [
    "## Kalman filter\n",
    "\n",
    "<u>**Predict**</u>\n",
    "\n",
    "$\\begin{array}{|l|l|l|}\n",
    "\\hline\n",
    "\\text{Univariate} & \\text{Univariate} & \\text{Multivariate}\\\\\n",
    "& \\text{(Kalman form)} & \\\\\n",
    "\\hline\n",
    "\\bar \\mu = \\mu + \\mu_{f_x} & \\bar x = x + dx & \\bar{\\mathbf x} = \\mathbf{Fx} + \\mathbf{Bu}\\\\\n",
    "\\bar\\sigma^2 = \\sigma_x^2 + \\sigma_{f_x}^2 & \\bar P = P + Q & \\bar{\\mathbf P} = \\mathbf{FPF}^\\mathsf T + \\mathbf Q \\\\\n",
    "\\hline\n",
    "\\end{array}$\n",
    "\n",
    "<u>**Update**</u>\n",
    "\n",
    "$\\begin{array}{|l|l|l|}\n",
    "\\hline\n",
    "\\text{Univariate} & \\text{Univariate} & \\text{Multivariate}\\\\\n",
    "& \\text{(Kalman form)} & \\\\\n",
    "\\hline\n",
    "& y = z - \\bar x & \\mathbf y = \\mathbf z - \\mathbf{H\\bar x} \\\\\n",
    "& K = \\frac{\\bar P}{\\bar P+R}&\n",
    "\\mathbf K = \\mathbf{\\bar{P}H}^\\mathsf T (\\mathbf{H\\bar{P}H}^\\mathsf T + \\mathbf R)^{-1} \\\\\n",
    "\\mu=\\frac{\\bar\\sigma^2\\, \\mu_z + \\sigma_z^2 \\, \\bar\\mu} {\\bar\\sigma^2 + \\sigma_z^2} & x = \\bar x + Ky & \\mathbf x = \\bar{\\mathbf x} + \\mathbf{Ky} \\\\\n",
    "\\sigma^2 = \\frac{\\sigma_1^2\\sigma_2^2}{\\sigma_1^2+\\sigma_2^2} & P = (1-K)\\bar P &\n",
    "\\mathbf P = (\\mathbf I - \\mathbf{KH})\\mathbf{\\bar{P}} \\\\\n",
    "\\hline\n",
    "\\end{array}$"
   ]
  },
  {
   "cell_type": "code",
   "execution_count": 4,
   "metadata": {},
   "outputs": [
    {
     "data": {
      "image/png": "[encoded data removed]",
      "text/plain": [
       "<Figure size 432x288 with 1 Axes>"
      ]
     },
     "metadata": {
      "needs_background": "light"
     },
     "output_type": "display_data"
    }
   ],
   "source": [
    "import numpy as np\n",
    "from filterpy.kalman import predict\n",
    "from filterpy.stats import plot_covariance_ellipse\n",
    "\n",
    "\n",
    "dt = 0.3\n",
    "F = np.array([[1, dt], [0, 1]])\n",
    "x = np.array([10.0, 4.5])\n",
    "P = np.diag([500, 500])\n",
    "plot_covariance_ellipse(x, P, edgecolor='r')\n",
    "x, P = predict(x, P, F, Q=0)\n",
    "plot_covariance_ellipse(x, P, edgecolor='k', ls='dashed')"
   ]
  },
  {
   "cell_type": "code",
   "execution_count": 5,
   "metadata": {},
   "outputs": [
    {
     "data": {
      "text/plain": [
       "(array([11.35,  4.5 ]), array([[545., 150.],\n",
       "        [150., 500.]]))"
      ]
     },
     "execution_count": 5,
     "metadata": {},
     "output_type": "execute_result"
    }
   ],
   "source": [
    "x, P"
   ]
  },
  {
   "cell_type": "code",
   "execution_count": 6,
   "metadata": {},
   "outputs": [
    {
     "name": "stdout",
     "output_type": "stream",
     "text": [
      "[[0.5875 1.175 ]\n",
      " [1.175  2.35  ]]\n"
     ]
    }
   ],
   "source": [
    "from filterpy.common import Q_discrete_white_noise\n",
    "Q = Q_discrete_white_noise(dim=2, dt=1.0, var=2.35)\n",
    "print(Q)"
   ]
  },
  {
   "cell_type": "code",
   "execution_count": null,
   "metadata": {},
   "outputs": [],
   "source": []
  }
 ],
 "metadata": {
  "kernelspec": {
   "display_name": "Python 3",
   "language": "python",
   "name": "python3"
  },
  "language_info": {
   "codemirror_mode": {
    "name": "ipython",
    "version": 3
   },
   "file_extension": ".py",
   "mimetype": "text/x-python",
   "name": "python",
   "nbconvert_exporter": "python",
   "pygments_lexer": "ipython3",
   "version": "3.7.5"
  }
 },
 "nbformat": 4,
 "nbformat_minor": 4
}
