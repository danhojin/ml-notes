{
 "cells": [
  {
   "cell_type": "markdown",
   "metadata": {},
   "source": [
    "# Kalman and Bayesian Filter in python\n",
    "\n",
    "## Chapter 1 gh filter workbook\n",
    "\n",
    "https://github.com/rlabbe/Kalman-and-Bayesian-Filters-in-Python/blob/master/01-g-h-filter.ipynb"
   ]
  },
  {
   "cell_type": "code",
   "execution_count": 1,
   "metadata": {},
   "outputs": [],
   "source": [
    "import numpy as np\n",
    "import pandas as pd\n",
    "import altair as alt\n",
    "\n",
    "weights = [158.0, 164.2, 160.3, 159.9, 162.1, 164.6, \n",
    "           169.6, 167.4, 166.4, 171.0, 171.2, 172.6]"
   ]
  },
  {
   "cell_type": "code",
   "execution_count": 2,
   "metadata": {},
   "outputs": [],
   "source": [
    "time_step = 1.0  # day\n",
    "scale_factor = 4.0 / 10.0"
   ]
  },
  {
   "cell_type": "code",
   "execution_count": 3,
   "metadata": {},
   "outputs": [
    {
     "data": {
      "text/html": [
       "<div>\n",
       "<style scoped>\n",
       "    .dataframe tbody tr th:only-of-type {\n",
       "        vertical-align: middle;\n",
       "    }\n",
       "\n",
       "    .dataframe tbody tr th {\n",
       "        vertical-align: top;\n",
       "    }\n",
       "\n",
       "    .dataframe thead th {\n",
       "        text-align: right;\n",
       "    }\n",
       "</style>\n",
       "<table border=\"1\" class=\"dataframe\">\n",
       "  <thead>\n",
       "    <tr style=\"text-align: right;\">\n",
       "      <th></th>\n",
       "      <th>step</th>\n",
       "      <th>estimated</th>\n",
       "      <th>z</th>\n",
       "      <th>predicted</th>\n",
       "    </tr>\n",
       "  </thead>\n",
       "  <tbody>\n",
       "    <tr>\n",
       "      <th>0</th>\n",
       "      <td>0</td>\n",
       "      <td>160.0000</td>\n",
       "      <td>NaN</td>\n",
       "      <td>NaN</td>\n",
       "    </tr>\n",
       "    <tr>\n",
       "      <th>1</th>\n",
       "      <td>1</td>\n",
       "      <td>159.8000</td>\n",
       "      <td>158.0</td>\n",
       "      <td>161.000</td>\n",
       "    </tr>\n",
       "    <tr>\n",
       "      <th>2</th>\n",
       "      <td>2</td>\n",
       "      <td>162.1600</td>\n",
       "      <td>164.2</td>\n",
       "      <td>160.800</td>\n",
       "    </tr>\n",
       "    <tr>\n",
       "      <th>3</th>\n",
       "      <td>3</td>\n",
       "      <td>162.0160</td>\n",
       "      <td>160.3</td>\n",
       "      <td>163.160</td>\n",
       "    </tr>\n",
       "    <tr>\n",
       "      <th>4</th>\n",
       "      <td>4</td>\n",
       "      <td>161.7696</td>\n",
       "      <td>159.9</td>\n",
       "      <td>163.016</td>\n",
       "    </tr>\n",
       "  </tbody>\n",
       "</table>\n",
       "</div>"
      ],
      "text/plain": [
       "   step  estimated      z  predicted\n",
       "0     0   160.0000    NaN        NaN\n",
       "1     1   159.8000  158.0    161.000\n",
       "2     2   162.1600  164.2    160.800\n",
       "3     3   162.0160  160.3    163.160\n",
       "4     4   161.7696  159.9    163.016"
      ]
     },
     "execution_count": 3,
     "metadata": {},
     "output_type": "execute_result"
    }
   ],
   "source": [
    "def predict_using_gain_guess(estimated_weight, z, gain_rate):\n",
    "    predicted_weight = estimated_weight + gain_rate * time_step\n",
    "    estimated_weight = predicted_weight + scale_factor * (z - predicted_weight)\n",
    "    return estimated_weight, predicted_weight\n",
    "\n",
    "estimated_weight = 160.0  # init guess\n",
    "df = pd.DataFrame({'estimated': [estimated_weight], 'z': [np.nan], 'predicted': [np.nan]})\n",
    "for z in weights:\n",
    "    estimated_weight, predicted_weight  = predict_using_gain_guess(\n",
    "        estimated_weight, z, gain_rate = 1.0)\n",
    "    df = pd.concat([df, pd.DataFrame(\n",
    "        [[estimated_weight, z, predicted_weight]],\n",
    "        columns=['estimated', 'z', 'predicted']\n",
    "    )], ignore_index=True)\n",
    "\n",
    "df = df.reset_index().rename(columns={'index': 'step'})\n",
    "df.head()"
   ]
  },
  {
   "cell_type": "code",
   "execution_count": 4,
   "metadata": {},
   "outputs": [
    {
     "data": {
      "text/html": [
       "<div>\n",
       "<style scoped>\n",
       "    .dataframe tbody tr th:only-of-type {\n",
       "        vertical-align: middle;\n",
       "    }\n",
       "\n",
       "    .dataframe tbody tr th {\n",
       "        vertical-align: top;\n",
       "    }\n",
       "\n",
       "    .dataframe thead th {\n",
       "        text-align: right;\n",
       "    }\n",
       "</style>\n",
       "<table border=\"1\" class=\"dataframe\">\n",
       "  <thead>\n",
       "    <tr style=\"text-align: right;\">\n",
       "      <th></th>\n",
       "      <th>step</th>\n",
       "      <th>variable</th>\n",
       "      <th>value</th>\n",
       "    </tr>\n",
       "  </thead>\n",
       "  <tbody>\n",
       "    <tr>\n",
       "      <th>0</th>\n",
       "      <td>0</td>\n",
       "      <td>estimated</td>\n",
       "      <td>160.0000</td>\n",
       "    </tr>\n",
       "    <tr>\n",
       "      <th>1</th>\n",
       "      <td>1</td>\n",
       "      <td>estimated</td>\n",
       "      <td>159.8000</td>\n",
       "    </tr>\n",
       "    <tr>\n",
       "      <th>2</th>\n",
       "      <td>2</td>\n",
       "      <td>estimated</td>\n",
       "      <td>162.1600</td>\n",
       "    </tr>\n",
       "    <tr>\n",
       "      <th>3</th>\n",
       "      <td>3</td>\n",
       "      <td>estimated</td>\n",
       "      <td>162.0160</td>\n",
       "    </tr>\n",
       "    <tr>\n",
       "      <th>4</th>\n",
       "      <td>4</td>\n",
       "      <td>estimated</td>\n",
       "      <td>161.7696</td>\n",
       "    </tr>\n",
       "  </tbody>\n",
       "</table>\n",
       "</div>"
      ],
      "text/plain": [
       "   step   variable     value\n",
       "0     0  estimated  160.0000\n",
       "1     1  estimated  159.8000\n",
       "2     2  estimated  162.1600\n",
       "3     3  estimated  162.0160\n",
       "4     4  estimated  161.7696"
      ]
     },
     "execution_count": 4,
     "metadata": {},
     "output_type": "execute_result"
    }
   ],
   "source": [
    "df = pd.melt(df, id_vars='step')\n",
    "df.head()"
   ]
  },
  {
   "cell_type": "code",
   "execution_count": 5,
   "metadata": {},
   "outputs": [
    {
     "data": {
      "text/html": [
       "\n",
       "<div id=\"altair-viz-be394ca917f1490aa844cc3eeefb66a6\"></div>\n",
       "<script type=\"text/javascript\">\n",
       "  (function(spec, embedOpt){\n",
       "    const outputDiv = document.getElementById(\"altair-viz-be394ca917f1490aa844cc3eeefb66a6\");\n",
       "    const paths = {\n",
       "      \"vega\": \"https://cdn.jsdelivr.net/npm//vega@5?noext\",\n",
       "      \"vega-lib\": \"https://cdn.jsdelivr.net/npm//vega-lib?noext\",\n",
       "      \"vega-lite\": \"https://cdn.jsdelivr.net/npm//vega-lite@4.0.2?noext\",\n",
       "      \"vega-embed\": \"https://cdn.jsdelivr.net/npm//vega-embed@6?noext\",\n",
       "    };\n",
       "\n",
       "    function loadScript(lib) {\n",
       "      return new Promise(function(resolve, reject) {\n",
       "        var s = document.createElement('script');\n",
       "        s.src = paths[lib];\n",
       "        s.async = true;\n",
       "        s.onload = () => resolve(paths[lib]);\n",
       "        s.onerror = () => reject(`Error loading script: ${paths[lib]}`);\n",
       "        document.getElementsByTagName(\"head\")[0].appendChild(s);\n",
       "      });\n",
       "    }\n",
       "\n",
       "    function showError(err) {\n",
       "      outputDiv.innerHTML = `<div class=\"error\" style=\"color:red;\">${err}</div>`;\n",
       "      throw err;\n",
       "    }\n",
       "\n",
       "    function displayChart(vegaEmbed) {\n",
       "      vegaEmbed(outputDiv, spec, embedOpt)\n",
       "        .catch(err => showError(`Javascript Error: ${err.message}<br>This usually means there's a typo in your chart specification. See the javascript console for the full traceback.`));\n",
       "    }\n",
       "\n",
       "    if(typeof define === \"function\" && define.amd) {\n",
       "      requirejs.config({paths});\n",
       "      require([\"vega-embed\"], displayChart, err => showError(`Error loading script: ${err.message}`));\n",
       "    } else if (typeof vegaEmbed === \"function\") {\n",
       "      displayChart(vegaEmbed);\n",
       "    } else {\n",
       "      loadScript(\"vega\")\n",
       "        .then(() => loadScript(\"vega-lite\"))\n",
       "        .then(() => loadScript(\"vega-embed\"))\n",
       "        .catch(showError)\n",
       "        .then(() => displayChart(vegaEmbed));\n",
       "    }\n",
       "  })({\"config\": {\"view\": {\"continuousWidth\": 400, \"continuousHeight\": 300}}, \"data\": {\"name\": \"data-4ba3806b2f085bda314d66cd3403eaad\"}, \"mark\": \"line\", \"encoding\": {\"color\": {\"type\": \"nominal\", \"field\": \"variable\"}, \"shape\": {\"type\": \"nominal\", \"field\": \"variable\"}, \"x\": {\"type\": \"quantitative\", \"field\": \"step\"}, \"y\": {\"type\": \"quantitative\", \"field\": \"value\", \"scale\": {\"zero\": false}}}, \"$schema\": \"https://vega.github.io/schema/vega-lite/v4.0.2.json\", \"datasets\": {\"data-4ba3806b2f085bda314d66cd3403eaad\": [{\"step\": 0, \"variable\": \"estimated\", \"value\": 160.0}, {\"step\": 1, \"variable\": \"estimated\", \"value\": 159.8}, {\"step\": 2, \"variable\": \"estimated\", \"value\": 162.16}, {\"step\": 3, \"variable\": \"estimated\", \"value\": 162.016}, {\"step\": 4, \"variable\": \"estimated\", \"value\": 161.7696}, {\"step\": 5, \"variable\": \"estimated\", \"value\": 162.50176}, {\"step\": 6, \"variable\": \"estimated\", \"value\": 163.941056}, {\"step\": 7, \"variable\": \"estimated\", \"value\": 166.8046336}, {\"step\": 8, \"variable\": \"estimated\", \"value\": 167.64278016}, {\"step\": 9, \"variable\": \"estimated\", \"value\": 167.745668096}, {\"step\": 10, \"variable\": \"estimated\", \"value\": 169.6474008576}, {\"step\": 11, \"variable\": \"estimated\", \"value\": 170.86844051455998}, {\"step\": 12, \"variable\": \"estimated\", \"value\": 172.16106430873597}, {\"step\": 0, \"variable\": \"z\", \"value\": null}, {\"step\": 1, \"variable\": \"z\", \"value\": 158.0}, {\"step\": 2, \"variable\": \"z\", \"value\": 164.2}, {\"step\": 3, \"variable\": \"z\", \"value\": 160.3}, {\"step\": 4, \"variable\": \"z\", \"value\": 159.9}, {\"step\": 5, \"variable\": \"z\", \"value\": 162.1}, {\"step\": 6, \"variable\": \"z\", \"value\": 164.6}, {\"step\": 7, \"variable\": \"z\", \"value\": 169.6}, {\"step\": 8, \"variable\": \"z\", \"value\": 167.4}, {\"step\": 9, \"variable\": \"z\", \"value\": 166.4}, {\"step\": 10, \"variable\": \"z\", \"value\": 171.0}, {\"step\": 11, \"variable\": \"z\", \"value\": 171.2}, {\"step\": 12, \"variable\": \"z\", \"value\": 172.6}, {\"step\": 0, \"variable\": \"predicted\", \"value\": null}, {\"step\": 1, \"variable\": \"predicted\", \"value\": 161.0}, {\"step\": 2, \"variable\": \"predicted\", \"value\": 160.8}, {\"step\": 3, \"variable\": \"predicted\", \"value\": 163.16}, {\"step\": 4, \"variable\": \"predicted\", \"value\": 163.016}, {\"step\": 5, \"variable\": \"predicted\", \"value\": 162.7696}, {\"step\": 6, \"variable\": \"predicted\", \"value\": 163.50176}, {\"step\": 7, \"variable\": \"predicted\", \"value\": 164.941056}, {\"step\": 8, \"variable\": \"predicted\", \"value\": 167.8046336}, {\"step\": 9, \"variable\": \"predicted\", \"value\": 168.64278016}, {\"step\": 10, \"variable\": \"predicted\", \"value\": 168.745668096}, {\"step\": 11, \"variable\": \"predicted\", \"value\": 170.6474008576}, {\"step\": 12, \"variable\": \"predicted\", \"value\": 171.86844051455998}]}}, {\"mode\": \"vega-lite\"});\n",
       "</script>"
      ],
      "text/plain": [
       "alt.Chart(...)"
      ]
     },
     "execution_count": 5,
     "metadata": {},
     "output_type": "execute_result"
    }
   ],
   "source": [
    "alt.Chart(df).mark_line().encode(\n",
    "    x='step',\n",
    "    y=alt.Y('value', scale=alt.Scale(zero=False)),\n",
    "    color='variable',\n",
    "    shape=alt.Shape('variable')\n",
    ")  #.interactive()\n",
    "# does not render this chart in the github"
   ]
  },
  {
   "cell_type": "markdown",
   "metadata": {},
   "source": [
    "## Chapter 2 Discrete Bayes Filter workbook\n",
    "\n",
    "https://github.com/rlabbe/Kalman-and-Bayesian-Filters-in-Python/blob/master/02-Discrete-Bayes.ipynb\n",
    "\n",
    "### Tracking a dog\n",
    "\n",
    "* H: Hallway에서 dog의 위치\n",
    "* D: door event\n",
    "* S: Sensor emits door signal event\n",
    "\n",
    "D에 대한 확실한 정보가 있다면, 알고자 하는 사항 $P(H|D)$은 다음과 같다.\n",
    "\n",
    "* $P(H|D) \\propto P(H) \\times P(D|H)$"
   ]
  },
  {
   "cell_type": "code",
   "execution_count": 3,
   "metadata": {},
   "outputs": [],
   "source": [
    "%matplotlib inline\n",
    "import numpy as np\n",
    "import pandas as pd\n",
    "import altair as alt\n",
    "import matplotlib.pyplot as plt\n",
    "\n",
    "from filterpy.discrete_bayes import normalize"
   ]
  },
  {
   "cell_type": "code",
   "execution_count": 4,
   "metadata": {},
   "outputs": [],
   "source": [
    "P_D_given_H = np.array([1, 1, 0, 0, 0, 0, 0, 0, 1, 0])\n",
    "P_H = np.array([0.1] * 10)"
   ]
  },
  {
   "cell_type": "code",
   "execution_count": 6,
   "metadata": {},
   "outputs": [],
   "source": [
    "P_H_given_D = P_H * P_D_given_H\n",
    "P_H_given_D = normalize(P_H_given_D)"
   ]
  },
  {
   "cell_type": "code",
   "execution_count": 11,
   "metadata": {},
   "outputs": [
    {
     "data": {
      "text/plain": [
       "<matplotlib.legend.Legend at 0x7ff2bb504a90>"
      ]
     },
     "execution_count": 11,
     "metadata": {},
     "output_type": "execute_result"
    },
    {
     "data": {
      "image/png": "[encoded data removed]",
      "text/plain": [
       "<Figure size 432x288 with 1 Axes>"
      ]
     },
     "metadata": {
      "needs_background": "light"
     },
     "output_type": "display_data"
    }
   ],
   "source": [
    "df = pd.DataFrame({\n",
    "    'P_H': P_H,\n",
    "    'P_H_given_D': P_H_given_D\n",
    "})\n",
    "fig, ax = plt.subplots()\n",
    "df.plot(kind='bar', ax=ax)\n",
    "ax.legend(['$P(H)$', '$P(H|D)$'])"
   ]
  },
  {
   "cell_type": "markdown",
   "metadata": {},
   "source": [
    "#### Noisy sensors"
   ]
  },
  {
   "cell_type": "markdown",
   "metadata": {},
   "source": [
    "sensor S를 통하여 D에 대한 정보를 얻을 때, 알고자 하는 사항 $P(H|S)$은 다음과 같다.\n",
    "\n",
    "* $P(H|S) \\propto P(H) \\times P(S|H)$\n",
    "\n",
    "그런데, $H=h \\in \\{0, 1, \\cdots 9\\}$에서 D는 고정되어 $P(D|H) = 1$이거나 $P(D^c|H) = 1$이 된다.\n",
    "\n",
    "\\begin{align}\n",
    "P(S|H) &= P(S,D|H) + P(S,D^c|H) \\\\\n",
    "&= P(D|H)P(S|D,H) \\: \\text{or} \\: P(D^c|H)P(S|D^c,H) \\\\\n",
    "&= 1 \\times 3/4  \\: \\text{for} \\: P(D|H) = 1 \\: \\text{else} \\: 1/4\n",
    "\\end{align}"
   ]
  },
  {
   "cell_type": "code",
   "execution_count": 23,
   "metadata": {},
   "outputs": [
    {
     "data": {
      "text/plain": [
       "<matplotlib.legend.Legend at 0x7ff2bb08fa10>"
      ]
     },
     "execution_count": 23,
     "metadata": {},
     "output_type": "execute_result"
    },
    {
     "data": {
      "image/png": "[encoded data removed]",
      "text/plain": [
       "<Figure size 432x288 with 1 Axes>"
      ]
     },
     "metadata": {
      "needs_background": "light"
     },
     "output_type": "display_data"
    }
   ],
   "source": [
    "P_D_given_H = np.array([1, 1, 0, 0, 0, 0, 0, 0, 1, 0])\n",
    "P_S_given_H = np.array([3/4 if d else 1/4 for d in P_D_given_H])\n",
    "P_H_given_S = P_H * P_S_given_H\n",
    "P_H_given_S = normalize(P_H_given_S)\n",
    "df = pd.DataFrame({\n",
    "    'P_H': P_H,\n",
    "    'P_H_given_S': P_H_given_S\n",
    "})\n",
    "fig, ax = plt.subplots()\n",
    "df.plot(kind='bar', ax=ax)\n",
    "ax.legend(['$P(H)$', '$P(H|S)$'])"
   ]
  },
  {
   "cell_type": "markdown",
   "metadata": {},
   "source": [
    "#### Incorporating movement"
   ]
  },
  {
   "cell_type": "code",
   "execution_count": null,
   "metadata": {},
   "outputs": [],
   "source": []
  }
 ],
 "metadata": {
  "kernelspec": {
   "display_name": "Python 3",
   "language": "python",
   "name": "python3"
  },
  "language_info": {
   "codemirror_mode": {
    "name": "ipython",
    "version": 3
   },
   "file_extension": ".py",
   "mimetype": "text/x-python",
   "name": "python",
   "nbconvert_exporter": "python",
   "pygments_lexer": "ipython3",
   "version": "3.7.5"
  }
 },
 "nbformat": 4,
 "nbformat_minor": 4
}
