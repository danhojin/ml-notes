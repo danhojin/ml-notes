{
 "cells": [
  {
   "cell_type": "markdown",
   "metadata": {},
   "source": [
    "# Exercise 9.1.5"
   ]
  },
  {
   "cell_type": "code",
   "execution_count": 2,
   "metadata": {},
   "outputs": [],
   "source": [
    "from sympy import *\n",
    "\n",
    "X_1, X_2, X_3, X_4 = symbols('X_1, X_2, X_3, X_4')"
   ]
  },
  {
   "cell_type": "code",
   "execution_count": 4,
   "metadata": {},
   "outputs": [
    {
     "data": {
      "text/latex": [
       "$\\displaystyle \\left(- \\frac{X_{1}}{4} - \\frac{X_{2}}{4} - \\frac{X_{3}}{4} + \\frac{3 X_{4}}{4}\\right)^{2} + \\left(- \\frac{X_{1}}{4} - \\frac{X_{2}}{4} + \\frac{3 X_{3}}{4} - \\frac{X_{4}}{4}\\right)^{2} + \\left(- \\frac{X_{1}}{4} + \\frac{3 X_{2}}{4} - \\frac{X_{3}}{4} - \\frac{X_{4}}{4}\\right)^{2} + \\left(\\frac{3 X_{1}}{4} - \\frac{X_{2}}{4} - \\frac{X_{3}}{4} - \\frac{X_{4}}{4}\\right)^{2}$"
      ],
      "text/plain": [
       "(-X_1/4 - X_2/4 - X_3/4 + 3*X_4/4)**2 + (-X_1/4 - X_2/4 + 3*X_3/4 - X_4/4)**2 + (-X_1/4 + 3*X_2/4 - X_3/4 - X_4/4)**2 + (3*X_1/4 - X_2/4 - X_3/4 - X_4/4)**2"
      ]
     },
     "execution_count": 4,
     "metadata": {},
     "output_type": "execute_result"
    }
   ],
   "source": [
    "from functools import reduce\n",
    "\n",
    "X_bar = Rational(1, 4) * (X_1 + X_2 + X_3 + X_4)\n",
    "Q = map(lambda X_i: (X_i - X_bar) ** 2, [X_1, X_2, X_3, X_4])\n",
    "Q = reduce(lambda a, x: a + x, Q)\n",
    "Q"
   ]
  },
  {
   "cell_type": "code",
   "execution_count": 6,
   "metadata": {},
   "outputs": [],
   "source": [
    "Q_1 = (X_1 - X_2) ** 2 / 2\n",
    "Q_2 = (X_3 - (X_1 + X_2) / 2) ** 2 / Rational(3, 2)\n",
    "Q_3 = (X_4 - (X_1 + X_2 + X_3) / 3) ** 2 / Rational(4, 3)"
   ]
  },
  {
   "cell_type": "code",
   "execution_count": 15,
   "metadata": {},
   "outputs": [
    {
     "data": {
      "text/plain": [
       "True"
      ]
     },
     "execution_count": 15,
     "metadata": {},
     "output_type": "execute_result"
    }
   ],
   "source": [
    "expand(Q) == expand(Q_1) + expand(Q_2) + expand(Q_3)"
   ]
  }
 ],
 "metadata": {
  "kernelspec": {
   "display_name": "Python 3",
   "language": "python",
   "name": "python3"
  },
  "language_info": {
   "codemirror_mode": {
    "name": "ipython",
    "version": 3
   },
   "file_extension": ".py",
   "mimetype": "text/x-python",
   "name": "python",
   "nbconvert_exporter": "python",
   "pygments_lexer": "ipython3",
   "version": "3.7.7"
  }
 },
 "nbformat": 4,
 "nbformat_minor": 4
}
