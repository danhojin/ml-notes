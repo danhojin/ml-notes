{
 "cells": [
  {
   "cell_type": "markdown",
   "metadata": {},
   "source": [
    "# Denosing autoencoder\n",
    "\n",
    "Simple CNN autoencoder\n",
    "\n",
    "reference\n",
    "\n",
    "Autoencoder implementation: \n",
    "https://gist.github.com/bigsnarfdude/dde651f6e06f266b48bc3750ac730f80\n",
    "\n",
    "CNN autoencoder explained:\n",
    "https://sefiks.com/2018/03/23/convolutional-autoencoder-clustering-images-with-neural-networks/\n",
    "\n",
    "DataLoader:\n",
    "https://pytorch.org/tutorials/intermediate/spatial_transformer_tutorial.html\n"
   ]
  },
  {
   "cell_type": "code",
   "execution_count": 1,
   "metadata": {},
   "outputs": [],
   "source": [
    "import torch\n",
    "from torch import nn\n",
    "from torch.nn import functional as F\n",
    "import torch.optim as optim\n",
    "from torch.utils.data import DataLoader\n",
    "from torchvision import datasets, transforms\n",
    "\n",
    "import matplotlib.pyplot as plt\n",
    "%matplotlib inline\n",
    "\n",
    "\n",
    "device = torch.device(\"cuda\" if torch.cuda.is_available() else \"cpu\")"
   ]
  },
  {
   "cell_type": "markdown",
   "metadata": {},
   "source": [
    "## DataLoader"
   ]
  },
  {
   "cell_type": "code",
   "execution_count": 2,
   "metadata": {},
   "outputs": [
    {
     "name": "stdout",
     "output_type": "stream",
     "text": [
      "target: 0\n"
     ]
    },
    {
     "data": {
      "image/png": "[encoded data removed]",
      "text/plain": [
       "<Figure size 432x288 with 1 Axes>"
      ]
     },
     "metadata": {
      "needs_background": "light"
     },
     "output_type": "display_data"
    }
   ],
   "source": [
    "epochs = 40\n",
    "batch_size = 128\n",
    "lr = 1e-3\n",
    "\n",
    "img_transform = transforms.Compose([\n",
    "    transforms.ToTensor(),    \n",
    "])\n",
    "\n",
    "# Training dataset\n",
    "train_loader = torch.utils.data.DataLoader(\n",
    "    datasets.MNIST(\n",
    "        root='./data',\n",
    "        train=True,\n",
    "        download=True,\n",
    "        transform=img_transform),\n",
    "    batch_size=batch_size,\n",
    "    shuffle=True)\n",
    "# Test dataset\n",
    "test_loader = torch.utils.data.DataLoader(\n",
    "    datasets.MNIST(\n",
    "        root='./data',\n",
    "        train=False,\n",
    "        transform=img_transform),\n",
    "    batch_size=batch_size,\n",
    "    shuffle=False)\n",
    "\n",
    "# sample plot\n",
    "for imgs, targets in train_loader:\n",
    "    img = imgs[100, 0]  # batch x channel (1, gray) x 28 x 28\n",
    "    print(f'target: {targets[100]}')\n",
    "    plt.imshow(img, cmap='gray', interpolation=None)\n",
    "    break"
   ]
  },
  {
   "cell_type": "code",
   "execution_count": 3,
   "metadata": {},
   "outputs": [
    {
     "data": {
      "text/plain": [
       "<matplotlib.image.AxesImage at 0x7fe638201f50>"
      ]
     },
     "execution_count": 3,
     "metadata": {},
     "output_type": "execute_result"
    },
    {
     "data": {
      "image/png": "[encoded data removed]",
      "text/plain": [
       "<Figure size 432x288 with 1 Axes>"
      ]
     },
     "metadata": {
      "needs_background": "light"
     },
     "output_type": "display_data"
    }
   ],
   "source": [
    "img += torch.randn_like(img) * 0.1\n",
    "plt.imshow(img, cmap='gray')"
   ]
  },
  {
   "cell_type": "markdown",
   "metadata": {},
   "source": [
    "## Model, Train"
   ]
  },
  {
   "cell_type": "code",
   "execution_count": 4,
   "metadata": {},
   "outputs": [
    {
     "data": {
      "text/plain": [
       "Autoencoder(\n",
       "  (conv_e1): Conv2d(1, 16, kernel_size=(3, 3), stride=(1, 1), padding=(1, 1))\n",
       "  (pool): MaxPool2d(kernel_size=2, stride=2, padding=0, dilation=1, ceil_mode=False)\n",
       "  (conv_e2): Conv2d(16, 8, kernel_size=(3, 3), stride=(1, 1))\n",
       "  (conv_d2): ConvTranspose2d(8, 16, kernel_size=(4, 4), stride=(2, 2))\n",
       "  (conv_d1): ConvTranspose2d(16, 1, kernel_size=(4, 4), stride=(2, 2), padding=(1, 1))\n",
       ")"
      ]
     },
     "execution_count": 4,
     "metadata": {},
     "output_type": "execute_result"
    }
   ],
   "source": [
    "class Autoencoder(nn.Module):\n",
    "    def __init__(self):\n",
    "        super().__init__()\n",
    "        # encoding, H=28\n",
    "        self.conv_e1 = nn.Conv2d(1, 16, 3, stride=1, padding=1)  # 28\n",
    "        self.pool = nn.MaxPool2d(2, stride=2)  # 14\n",
    "        self.conv_e2 = nn.Conv2d(16, 8, 3, stride=1)  # 12, and to 6 (pool)\n",
    "        # decoding\n",
    "        self.conv_d2 = nn.ConvTranspose2d(8, 16, 4, stride=2)  # 14\n",
    "        self.conv_d1 = nn.ConvTranspose2d(16, 1, 4, stride=2, padding=1)  # 28\n",
    "        \n",
    "    def forward(self, x):\n",
    "        x = self.pool(F.relu(self.conv_e1(x)))\n",
    "        x = self.pool(F.relu(self.conv_e2(x)))\n",
    "        x = F.relu(self.conv_d2(x))\n",
    "        # x = F.sigmoid(self.conv_d1(x))  # deprecated\n",
    "        x = torch.sigmoid(self.conv_d1(x))\n",
    "        return x\n",
    "        \n",
    "model = Autoencoder()\n",
    "model.to(device)"
   ]
  },
  {
   "cell_type": "code",
   "execution_count": 5,
   "metadata": {},
   "outputs": [],
   "source": [
    "criterion = nn.MSELoss()\n",
    "optimizer = optim.Adam(\n",
    "    model.parameters(),\n",
    "    lr=lr,\n",
    "    weight_decay=1e-5\n",
    ")"
   ]
  },
  {
   "cell_type": "code",
   "execution_count": 6,
   "metadata": {},
   "outputs": [
    {
     "name": "stderr",
     "output_type": "stream",
     "text": [
      "epoch: 40, loss: 2.24: 100%|██████████| 40/40 [03:13<00:00,  4.83s/it] \n"
     ]
    }
   ],
   "source": [
    "from tqdm import tqdm\n",
    "\n",
    "pbar = tqdm(range(epochs))\n",
    "for epoch in pbar:  # range(epochs):\n",
    "    running_loss = 0\n",
    "    for imgs, _ in train_loader:  # image batch\n",
    "        imgs = imgs.to(device)\n",
    "        imgs_noisy = imgs + torch.randn_like(imgs) * 0.1\n",
    "        # imgs_noisy = imgs.to(device)\n",
    "        # =====forward==================\n",
    "        outs = model(imgs_noisy)\n",
    "        loss = criterion(outs, imgs)\n",
    "        # =====backward=================\n",
    "        optimizer.zero_grad()\n",
    "        loss.backward()\n",
    "        optimizer.step()\n",
    "        running_loss += loss.item()\n",
    "        \n",
    "    pbar.set_description(f'epoch: {epoch + 1}, loss: {running_loss:.2f}')\n",
    "    # print(f'epoch: {epoch + 1}, loss: {running_loss}')"
   ]
  },
  {
   "cell_type": "markdown",
   "metadata": {},
   "source": [
    "## Sample test"
   ]
  },
  {
   "cell_type": "code",
   "execution_count": 9,
   "metadata": {},
   "outputs": [
    {
     "name": "stdout",
     "output_type": "stream",
     "text": [
      "target: 4\n"
     ]
    },
    {
     "data": {
      "image/png": "[encoded data removed]",
      "text/plain": [
       "<Figure size 432x288 with 1 Axes>"
      ]
     },
     "metadata": {
      "needs_background": "light"
     },
     "output_type": "display_data"
    }
   ],
   "source": [
    "# sample plot\n",
    "for imgs, targets in train_loader:\n",
    "    img = imgs[100, 0]  # batch x channel (1, gray) x 28 x 28\n",
    "    print(f'target: {targets[100]}')\n",
    "    plt.imshow(img, cmap='gray', interpolation=None)\n",
    "    break"
   ]
  },
  {
   "cell_type": "code",
   "execution_count": 10,
   "metadata": {},
   "outputs": [
    {
     "data": {
      "text/plain": [
       "<matplotlib.image.AxesImage at 0x7fe63fece650>"
      ]
     },
     "execution_count": 10,
     "metadata": {},
     "output_type": "execute_result"
    },
    {
     "data": {
      "image/png": "[encoded data removed]",
      "text/plain": [
       "<Figure size 432x288 with 1 Axes>"
      ]
     },
     "metadata": {
      "needs_background": "light"
     },
     "output_type": "display_data"
    }
   ],
   "source": [
    "imgs += torch.randn_like(imgs) * 0.1\n",
    "plt.imshow(img, cmap='gray')"
   ]
  },
  {
   "cell_type": "code",
   "execution_count": 11,
   "metadata": {},
   "outputs": [
    {
     "data": {
      "text/plain": [
       "<matplotlib.image.AxesImage at 0x7fe6300f7e50>"
      ]
     },
     "execution_count": 11,
     "metadata": {},
     "output_type": "execute_result"
    },
    {
     "data": {
      "image/png": "[encoded data removed]",
      "text/plain": [
       "<Figure size 432x288 with 1 Axes>"
      ]
     },
     "metadata": {
      "needs_background": "light"
     },
     "output_type": "display_data"
    }
   ],
   "source": [
    "imgs = imgs.to(device)\n",
    "outs = model(imgs)\n",
    "outs = outs.cpu().detach().numpy()\n",
    "plt.imshow(outs[100, 0], cmap='gray', interpolation=None)"
   ]
  },
  {
   "cell_type": "code",
   "execution_count": null,
   "metadata": {},
   "outputs": [],
   "source": []
  }
 ],
 "metadata": {
  "kernelspec": {
   "display_name": "Python 3",
   "language": "python",
   "name": "python3"
  },
  "language_info": {
   "codemirror_mode": {
    "name": "ipython",
    "version": 3
   },
   "file_extension": ".py",
   "mimetype": "text/x-python",
   "name": "python",
   "nbconvert_exporter": "python",
   "pygments_lexer": "ipython3",
   "version": "3.7.5"
  }
 },
 "nbformat": 4,
 "nbformat_minor": 4
}
