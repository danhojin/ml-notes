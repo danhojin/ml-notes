{
 "cells": [
  {
   "cell_type": "markdown",
   "metadata": {},
   "source": [
    "# Shared vision model\n",
    "\n",
    "mnist의 두 샘플 이미지가 같은 숫자인지 분류하는 문제를 다룬다. 이미지 처리를 위하여 vision_model을 이용하고 이 모델은 두 이미지 처리에 공유된다.\n",
    "\n",
    "모델 구성의 작동 여부에만 초점을 두어 불균형 데이터 문제나 성능 개선에 대한 검토는 하지 않고. 과적합에 대비하여 epochs 수만 조절한다.\n",
    "\n",
    "https://keras.io/getting-started/functional-api-guide/ 문서의 Shared vision model을 참고하였다.\n",
    "\n",
    "\n",
    "[![Open In Colab](https://colab.research.google.com/assets/colab-badge.svg)](https://colab.research.google.com/github/danhojin/ml-notes/blob/master/dl/mnist_digit_pairs_keras_shared_vision_model.ipynb)"
   ]
  },
  {
   "cell_type": "markdown",
   "metadata": {},
   "source": [
    "## importing modules and preparing datasets"
   ]
  },
  {
   "cell_type": "code",
   "execution_count": 1,
   "metadata": {},
   "outputs": [],
   "source": [
    "import random\n",
    "\n",
    "import tensorflow as tf\n",
    "from tensorflow.keras import models, layers\n",
    "from tensorflow.keras import backend as K\n",
    "\n",
    "import numpy as np\n",
    "import pandas as pd\n",
    "import matplotlib.pyplot as plt\n",
    "import altair as alt\n",
    "%matplotlib inline"
   ]
  },
  {
   "cell_type": "code",
   "execution_count": 2,
   "metadata": {},
   "outputs": [
    {
     "data": {
      "text/plain": [
       "(60000, 28, 28, 1)"
      ]
     },
     "execution_count": 2,
     "metadata": {},
     "output_type": "execute_result"
    }
   ],
   "source": [
    "(x_train, y_train), (x_test, y_test) = tf.keras.datasets.mnist.load_data()\n",
    "\n",
    "x_train = x_train / 255.0\n",
    "x_train = x_train.reshape((-1, 28, 28, 1))\n",
    "x_test = x_test.reshape((-1, 28, 28, 1)) / 255.0\n",
    "x_train.shape"
   ]
  },
  {
   "cell_type": "code",
   "execution_count": 3,
   "metadata": {},
   "outputs": [
    {
     "data": {
      "text/html": [
       "<div>\n",
       "<style scoped>\n",
       "    .dataframe tbody tr th:only-of-type {\n",
       "        vertical-align: middle;\n",
       "    }\n",
       "\n",
       "    .dataframe tbody tr th {\n",
       "        vertical-align: top;\n",
       "    }\n",
       "\n",
       "    .dataframe thead th {\n",
       "        text-align: right;\n",
       "    }\n",
       "</style>\n",
       "<table border=\"1\" class=\"dataframe\">\n",
       "  <thead>\n",
       "    <tr style=\"text-align: right;\">\n",
       "      <th></th>\n",
       "      <th>index_1</th>\n",
       "      <th>index_2</th>\n",
       "      <th>y</th>\n",
       "    </tr>\n",
       "  </thead>\n",
       "  <tbody>\n",
       "    <tr>\n",
       "      <th>0</th>\n",
       "      <td>44210</td>\n",
       "      <td>39485</td>\n",
       "      <td>1</td>\n",
       "    </tr>\n",
       "    <tr>\n",
       "      <th>1</th>\n",
       "      <td>3662</td>\n",
       "      <td>1901</td>\n",
       "      <td>0</td>\n",
       "    </tr>\n",
       "    <tr>\n",
       "      <th>2</th>\n",
       "      <td>38414</td>\n",
       "      <td>13146</td>\n",
       "      <td>0</td>\n",
       "    </tr>\n",
       "    <tr>\n",
       "      <th>3</th>\n",
       "      <td>16455</td>\n",
       "      <td>24663</td>\n",
       "      <td>1</td>\n",
       "    </tr>\n",
       "    <tr>\n",
       "      <th>4</th>\n",
       "      <td>31387</td>\n",
       "      <td>19946</td>\n",
       "      <td>0</td>\n",
       "    </tr>\n",
       "  </tbody>\n",
       "</table>\n",
       "</div>"
      ],
      "text/plain": [
       "   index_1  index_2  y\n",
       "0    44210    39485  1\n",
       "1     3662     1901  0\n",
       "2    38414    13146  0\n",
       "3    16455    24663  1\n",
       "4    31387    19946  0"
      ]
     },
     "execution_count": 3,
     "metadata": {},
     "output_type": "execute_result"
    }
   ],
   "source": [
    "index_1 = list(range(x_train.shape[0]))\n",
    "random.shuffle(index_1)\n",
    "index_2 = list(range(x_train.shape[0]))\n",
    "random.shuffle(index_2)\n",
    "\n",
    "df = pd.DataFrame({\n",
    "    'index_1': index_1,\n",
    "    'index_2': index_2\n",
    "})\n",
    "\n",
    "df['y'] = y_train[df['index_1']] - y_train[df['index_2']]\n",
    "df['y'] = df['y'].apply(lambda x: 1 if x == 0 else 0)\n",
    "\n",
    "df.head()"
   ]
  },
  {
   "cell_type": "code",
   "execution_count": 4,
   "metadata": {},
   "outputs": [
    {
     "data": {
      "text/plain": [
       "6000"
      ]
     },
     "execution_count": 4,
     "metadata": {},
     "output_type": "execute_result"
    }
   ],
   "source": [
    "df['y'].sum()  # unbalanced dataset 10%"
   ]
  },
  {
   "cell_type": "markdown",
   "metadata": {},
   "source": [
    "## model"
   ]
  },
  {
   "cell_type": "code",
   "execution_count": 5,
   "metadata": {},
   "outputs": [
    {
     "name": "stdout",
     "output_type": "stream",
     "text": [
      "Model: \"model\"\n",
      "_________________________________________________________________\n",
      "Layer (type)                 Output Shape              Param #   \n",
      "=================================================================\n",
      "input_1 (InputLayer)         [(None, 28, 28, 1)]       0         \n",
      "_________________________________________________________________\n",
      "conv2d (Conv2D)              (None, 26, 26, 64)        640       \n",
      "_________________________________________________________________\n",
      "conv2d_1 (Conv2D)            (None, 24, 24, 64)        36928     \n",
      "_________________________________________________________________\n",
      "max_pooling2d (MaxPooling2D) (None, 12, 12, 64)        0         \n",
      "_________________________________________________________________\n",
      "flatten (Flatten)            (None, 9216)              0         \n",
      "=================================================================\n",
      "Total params: 37,568\n",
      "Trainable params: 37,568\n",
      "Non-trainable params: 0\n",
      "_________________________________________________________________\n"
     ]
    }
   ],
   "source": [
    "digit_inputs = layers.Input(shape=(28, 28, 1))\n",
    "x = layers.Conv2D(64, (3, 3))(digit_inputs)\n",
    "x = layers.Conv2D(64, (3, 3))(x)\n",
    "x = layers.MaxPooling2D((2, 2))(x)\n",
    "digit_outputs = layers.Flatten()(x)\n",
    "\n",
    "vision_model = models.Model(inputs=digit_inputs, outputs=digit_outputs)\n",
    "\n",
    "vision_model.summary()"
   ]
  },
  {
   "cell_type": "code",
   "execution_count": 6,
   "metadata": {},
   "outputs": [
    {
     "name": "stdout",
     "output_type": "stream",
     "text": [
      "Model: \"model_1\"\n",
      "__________________________________________________________________________________________________\n",
      "Layer (type)                    Output Shape         Param #     Connected to                     \n",
      "==================================================================================================\n",
      "input_2 (InputLayer)            [(None, 28, 28, 1)]  0                                            \n",
      "__________________________________________________________________________________________________\n",
      "input_3 (InputLayer)            [(None, 28, 28, 1)]  0                                            \n",
      "__________________________________________________________________________________________________\n",
      "model (Model)                   (None, 9216)         37568       input_2[0][0]                    \n",
      "                                                                 input_3[0][0]                    \n",
      "__________________________________________________________________________________________________\n",
      "concatenate (Concatenate)       (None, 18432)        0           model[1][0]                      \n",
      "                                                                 model[2][0]                      \n",
      "__________________________________________________________________________________________________\n",
      "dense (Dense)                   (None, 256)          4718848     concatenate[0][0]                \n",
      "__________________________________________________________________________________________________\n",
      "dense_1 (Dense)                 (None, 1)            257         dense[0][0]                      \n",
      "==================================================================================================\n",
      "Total params: 4,756,673\n",
      "Trainable params: 4,756,673\n",
      "Non-trainable params: 0\n",
      "__________________________________________________________________________________________________\n"
     ]
    }
   ],
   "source": [
    "digit_a = layers.Input(shape=(28, 28, 1))\n",
    "digit_b = layers.Input(shape=(28, 28, 1))\n",
    "\n",
    "encoded_a = vision_model(digit_a)\n",
    "encoded_b = vision_model(digit_b)\n",
    "\n",
    "x = layers.concatenate([encoded_a, encoded_b])\n",
    "x = layers.Dense(256, activation='relu')(x)\n",
    "outputs = layers.Dense(1, activation='sigmoid')(x)\n",
    "\n",
    "model = models.Model(inputs=[digit_a, digit_b], outputs=outputs)\n",
    "\n",
    "model.summary()"
   ]
  },
  {
   "cell_type": "code",
   "execution_count": 7,
   "metadata": {},
   "outputs": [
    {
     "data": {
      "image/png": "[encoded data removed]",
      "text/plain": [
       "<IPython.core.display.Image object>"
      ]
     },
     "execution_count": 7,
     "metadata": {},
     "output_type": "execute_result"
    }
   ],
   "source": [
    "tf.keras.utils.plot_model(model, show_shapes=True)"
   ]
  },
  {
   "cell_type": "markdown",
   "metadata": {},
   "source": [
    "## fitting"
   ]
  },
  {
   "cell_type": "code",
   "execution_count": 8,
   "metadata": {},
   "outputs": [],
   "source": [
    "model.save_weights('init_weights.h5')\n",
    "\n",
    "batch_size = 64\n",
    "epochs = 15\n",
    "\n",
    "model.compile(optimizer='adam',\n",
    "             loss='binary_crossentropy',\n",
    "             metrics=['acc'])\n",
    "history = model.fit(\n",
    "    [x_train[df['index_1']], x_train[df['index_2']]],\n",
    "    df['y'].values,\n",
    "    batch_size=batch_size,\n",
    "    epochs=epochs,\n",
    "    validation_split=0.4,\n",
    "    verbose=0,\n",
    ")\n"
   ]
  },
  {
   "cell_type": "code",
   "execution_count": 9,
   "metadata": {},
   "outputs": [
    {
     "data": {
      "text/plain": [
       "dict_keys(['loss', 'acc', 'val_loss', 'val_acc'])"
      ]
     },
     "execution_count": 9,
     "metadata": {},
     "output_type": "execute_result"
    }
   ],
   "source": [
    "history.history.keys()"
   ]
  },
  {
   "cell_type": "code",
   "execution_count": 10,
   "metadata": {},
   "outputs": [
    {
     "data": {
      "text/html": [
       "\n",
       "<div id=\"altair-viz-ce2ada95d7aa4c65916821cdf1bd554b\"></div>\n",
       "<script type=\"text/javascript\">\n",
       "  (function(spec, embedOpt){\n",
       "    const outputDiv = document.getElementById(\"altair-viz-ce2ada95d7aa4c65916821cdf1bd554b\");\n",
       "    const paths = {\n",
       "      \"vega\": \"https://cdn.jsdelivr.net/npm//vega@5?noext\",\n",
       "      \"vega-lib\": \"https://cdn.jsdelivr.net/npm//vega-lib?noext\",\n",
       "      \"vega-lite\": \"https://cdn.jsdelivr.net/npm//vega-lite@4.0.2?noext\",\n",
       "      \"vega-embed\": \"https://cdn.jsdelivr.net/npm//vega-embed@6?noext\",\n",
       "    };\n",
       "\n",
       "    function loadScript(lib) {\n",
       "      return new Promise(function(resolve, reject) {\n",
       "        var s = document.createElement('script');\n",
       "        s.src = paths[lib];\n",
       "        s.async = true;\n",
       "        s.onload = () => resolve(paths[lib]);\n",
       "        s.onerror = () => reject(`Error loading script: ${paths[lib]}`);\n",
       "        document.getElementsByTagName(\"head\")[0].appendChild(s);\n",
       "      });\n",
       "    }\n",
       "\n",
       "    function showError(err) {\n",
       "      outputDiv.innerHTML = `<div class=\"error\" style=\"color:red;\">${err}</div>`;\n",
       "      throw err;\n",
       "    }\n",
       "\n",
       "    function displayChart(vegaEmbed) {\n",
       "      vegaEmbed(outputDiv, spec, embedOpt)\n",
       "        .catch(err => showError(`Javascript Error: ${err.message}<br>This usually means there's a typo in your chart specification. See the javascript console for the full traceback.`));\n",
       "    }\n",
       "\n",
       "    if(typeof define === \"function\" && define.amd) {\n",
       "      requirejs.config({paths});\n",
       "      require([\"vega-embed\"], displayChart, err => showError(`Error loading script: ${err.message}`));\n",
       "    } else if (typeof vegaEmbed === \"function\") {\n",
       "      displayChart(vegaEmbed);\n",
       "    } else {\n",
       "      loadScript(\"vega\")\n",
       "        .then(() => loadScript(\"vega-lite\"))\n",
       "        .then(() => loadScript(\"vega-embed\"))\n",
       "        .catch(showError)\n",
       "        .then(() => displayChart(vegaEmbed));\n",
       "    }\n",
       "  })({\"config\": {\"view\": {\"continuousWidth\": 400, \"continuousHeight\": 300}}, \"vconcat\": [{\"mark\": \"line\", \"encoding\": {\"color\": {\"type\": \"nominal\", \"field\": \"dataset\"}, \"x\": {\"type\": \"quantitative\", \"field\": \"epoch\"}, \"y\": {\"type\": \"quantitative\", \"field\": \"loss\"}}}, {\"mark\": \"line\", \"encoding\": {\"color\": {\"type\": \"nominal\", \"field\": \"dataset\"}, \"x\": {\"type\": \"quantitative\", \"field\": \"epoch\"}, \"y\": {\"type\": \"quantitative\", \"field\": \"acc\", \"scale\": {\"domain\": [0.9, 1.0]}}}}], \"data\": {\"name\": \"data-003c79c25f28f95f2beec784a1fc38ba\"}, \"$schema\": \"https://vega.github.io/schema/vega-lite/v4.0.2.json\", \"datasets\": {\"data-003c79c25f28f95f2beec784a1fc38ba\": [{\"dataset\": \"train\", \"loss\": 0.2705440383089913, \"acc\": 0.9078333377838135, \"epoch\": 1}, {\"dataset\": \"train\", \"loss\": 0.14417169288131926, \"acc\": 0.9426666498184204, \"epoch\": 2}, {\"dataset\": \"train\", \"loss\": 0.09536298143863678, \"acc\": 0.9629166722297668, \"epoch\": 3}, {\"dataset\": \"train\", \"loss\": 0.05729450872250729, \"acc\": 0.9780555367469788, \"epoch\": 4}, {\"dataset\": \"train\", \"loss\": 0.03187130036246445, \"acc\": 0.9882222414016724, \"epoch\": 5}, {\"dataset\": \"train\", \"loss\": 0.021743331401867586, \"acc\": 0.9922778010368347, \"epoch\": 6}, {\"dataset\": \"train\", \"loss\": 0.015970119939069265, \"acc\": 0.9944722056388855, \"epoch\": 7}, {\"dataset\": \"train\", \"loss\": 0.014823487614716416, \"acc\": 0.9951388835906982, \"epoch\": 8}, {\"dataset\": \"train\", \"loss\": 0.01408518153362416, \"acc\": 0.9948611259460449, \"epoch\": 9}, {\"dataset\": \"train\", \"loss\": 0.012558975358283432, \"acc\": 0.9958611130714417, \"epoch\": 10}, {\"dataset\": \"train\", \"loss\": 0.012433362961050281, \"acc\": 0.9958611130714417, \"epoch\": 11}, {\"dataset\": \"train\", \"loss\": 0.011759177583512307, \"acc\": 0.996055543422699, \"epoch\": 12}, {\"dataset\": \"train\", \"loss\": 0.007024179138579509, \"acc\": 0.9978333115577698, \"epoch\": 13}, {\"dataset\": \"train\", \"loss\": 0.011016892786138568, \"acc\": 0.9961944222450256, \"epoch\": 14}, {\"dataset\": \"train\", \"loss\": 0.006135328728526373, \"acc\": 0.9978055357933044, \"epoch\": 15}, {\"dataset\": \"val\", \"loss\": 0.19001095368464788, \"acc\": 0.9078333377838135, \"epoch\": 1}, {\"dataset\": \"val\", \"loss\": 0.13080970042943954, \"acc\": 0.9426666498184204, \"epoch\": 2}, {\"dataset\": \"val\", \"loss\": 0.14766544892142217, \"acc\": 0.9629166722297668, \"epoch\": 3}, {\"dataset\": \"val\", \"loss\": 0.12830428496499857, \"acc\": 0.9780555367469788, \"epoch\": 4}, {\"dataset\": \"val\", \"loss\": 0.15328489108694096, \"acc\": 0.9882222414016724, \"epoch\": 5}, {\"dataset\": \"val\", \"loss\": 0.19497592124637836, \"acc\": 0.9922778010368347, \"epoch\": 6}, {\"dataset\": \"val\", \"loss\": 0.21009062720447158, \"acc\": 0.9944722056388855, \"epoch\": 7}, {\"dataset\": \"val\", \"loss\": 0.1931310852933675, \"acc\": 0.9951388835906982, \"epoch\": 8}, {\"dataset\": \"val\", \"loss\": 0.2224206208482016, \"acc\": 0.9948611259460449, \"epoch\": 9}, {\"dataset\": \"val\", \"loss\": 0.22089194505130097, \"acc\": 0.9958611130714417, \"epoch\": 10}, {\"dataset\": \"val\", \"loss\": 0.2480435281227886, \"acc\": 0.9958611130714417, \"epoch\": 11}, {\"dataset\": \"val\", \"loss\": 0.2383835169879409, \"acc\": 0.996055543422699, \"epoch\": 12}, {\"dataset\": \"val\", \"loss\": 0.2742921723015558, \"acc\": 0.9978333115577698, \"epoch\": 13}, {\"dataset\": \"val\", \"loss\": 0.2905836810580804, \"acc\": 0.9961944222450256, \"epoch\": 14}, {\"dataset\": \"val\", \"loss\": 0.28314208405379515, \"acc\": 0.9978055357933044, \"epoch\": 15}]}}, {\"mode\": \"vega-lite\"});\n",
       "</script>"
      ],
      "text/plain": [
       "alt.VConcatChart(...)"
      ]
     },
     "execution_count": 10,
     "metadata": {},
     "output_type": "execute_result"
    }
   ],
   "source": [
    "hdf = pd.DataFrame({\n",
    "    'dataset': ['train'] * epochs + ['val'] * epochs,\n",
    "    'loss': history.history['loss'] + history.history['val_loss'],\n",
    "    'acc': history.history['acc'] + history.history['acc'],\n",
    "    'epoch': list(range(1, epochs + 1)) + list(range(1, epochs + 1))\n",
    "})\n",
    "p1 = alt.Chart(hdf).mark_line().encode(\n",
    "    x='epoch',\n",
    "    y='loss',\n",
    "    color='dataset'\n",
    ")\n",
    "p2 = alt.Chart(hdf).mark_line().encode(\n",
    "    x='epoch',\n",
    "    y=alt.Y('acc', scale=alt.Scale(domain=(0.9, 1.0))),\n",
    "    color='dataset'\n",
    ")\n",
    "p1 & p2"
   ]
  },
  {
   "cell_type": "code",
   "execution_count": 11,
   "metadata": {},
   "outputs": [
    {
     "name": "stdout",
     "output_type": "stream",
     "text": [
      "Train on 36000 samples, validate on 24000 samples\n",
      "Epoch 1/5\n",
      "36000/36000 [==============================] - 5s 135us/sample - loss: 0.2694 - acc: 0.9071 - val_loss: 0.1824 - val_acc: 0.9272\n",
      "Epoch 2/5\n",
      "36000/36000 [==============================] - 4s 122us/sample - loss: 0.1439 - acc: 0.9418 - val_loss: 0.1291 - val_acc: 0.9510\n",
      "Epoch 3/5\n",
      "36000/36000 [==============================] - 4s 122us/sample - loss: 0.0876 - acc: 0.9654 - val_loss: 0.1154 - val_acc: 0.9587\n",
      "Epoch 4/5\n",
      "36000/36000 [==============================] - 4s 122us/sample - loss: 0.0514 - acc: 0.9807 - val_loss: 0.1258 - val_acc: 0.9582\n",
      "Epoch 5/5\n",
      "36000/36000 [==============================] - 4s 122us/sample - loss: 0.0292 - acc: 0.9890 - val_loss: 0.1571 - val_acc: 0.9581\n"
     ]
    }
   ],
   "source": [
    "K.clear_session()\n",
    "model.load_weights('init_weights.h5')\n",
    "\n",
    "epochs = 5\n",
    "model.compile(optimizer='adam',\n",
    "             loss='binary_crossentropy',\n",
    "             metrics=['acc'])\n",
    "history = model.fit(\n",
    "    [x_train[df['index_1']], x_train[df['index_2']]],\n",
    "    df['y'].values,\n",
    "    batch_size=batch_size,\n",
    "    epochs=epochs,\n",
    "    validation_split=0.4,\n",
    "    verbose=1,\n",
    ")"
   ]
  },
  {
   "cell_type": "code",
   "execution_count": 12,
   "metadata": {},
   "outputs": [
    {
     "data": {
      "text/html": [
       "\n",
       "<div id=\"altair-viz-8e1dcb347479499ca81fe680d5154c33\"></div>\n",
       "<script type=\"text/javascript\">\n",
       "  (function(spec, embedOpt){\n",
       "    const outputDiv = document.getElementById(\"altair-viz-8e1dcb347479499ca81fe680d5154c33\");\n",
       "    const paths = {\n",
       "      \"vega\": \"https://cdn.jsdelivr.net/npm//vega@5?noext\",\n",
       "      \"vega-lib\": \"https://cdn.jsdelivr.net/npm//vega-lib?noext\",\n",
       "      \"vega-lite\": \"https://cdn.jsdelivr.net/npm//vega-lite@4.0.2?noext\",\n",
       "      \"vega-embed\": \"https://cdn.jsdelivr.net/npm//vega-embed@6?noext\",\n",
       "    };\n",
       "\n",
       "    function loadScript(lib) {\n",
       "      return new Promise(function(resolve, reject) {\n",
       "        var s = document.createElement('script');\n",
       "        s.src = paths[lib];\n",
       "        s.async = true;\n",
       "        s.onload = () => resolve(paths[lib]);\n",
       "        s.onerror = () => reject(`Error loading script: ${paths[lib]}`);\n",
       "        document.getElementsByTagName(\"head\")[0].appendChild(s);\n",
       "      });\n",
       "    }\n",
       "\n",
       "    function showError(err) {\n",
       "      outputDiv.innerHTML = `<div class=\"error\" style=\"color:red;\">${err}</div>`;\n",
       "      throw err;\n",
       "    }\n",
       "\n",
       "    function displayChart(vegaEmbed) {\n",
       "      vegaEmbed(outputDiv, spec, embedOpt)\n",
       "        .catch(err => showError(`Javascript Error: ${err.message}<br>This usually means there's a typo in your chart specification. See the javascript console for the full traceback.`));\n",
       "    }\n",
       "\n",
       "    if(typeof define === \"function\" && define.amd) {\n",
       "      requirejs.config({paths});\n",
       "      require([\"vega-embed\"], displayChart, err => showError(`Error loading script: ${err.message}`));\n",
       "    } else if (typeof vegaEmbed === \"function\") {\n",
       "      displayChart(vegaEmbed);\n",
       "    } else {\n",
       "      loadScript(\"vega\")\n",
       "        .then(() => loadScript(\"vega-lite\"))\n",
       "        .then(() => loadScript(\"vega-embed\"))\n",
       "        .catch(showError)\n",
       "        .then(() => displayChart(vegaEmbed));\n",
       "    }\n",
       "  })({\"config\": {\"view\": {\"continuousWidth\": 400, \"continuousHeight\": 300}}, \"vconcat\": [{\"mark\": \"line\", \"encoding\": {\"color\": {\"type\": \"nominal\", \"field\": \"dataset\"}, \"x\": {\"type\": \"quantitative\", \"field\": \"epoch\"}, \"y\": {\"type\": \"quantitative\", \"field\": \"loss\"}}}, {\"mark\": \"line\", \"encoding\": {\"color\": {\"type\": \"nominal\", \"field\": \"dataset\"}, \"x\": {\"type\": \"quantitative\", \"field\": \"epoch\"}, \"y\": {\"type\": \"quantitative\", \"field\": \"acc\", \"scale\": {\"domain\": [0.9, 1.0]}}}}], \"data\": {\"name\": \"data-4e8b4c7011a1bb0367946db60a07b25f\"}, \"$schema\": \"https://vega.github.io/schema/vega-lite/v4.0.2.json\", \"datasets\": {\"data-4e8b4c7011a1bb0367946db60a07b25f\": [{\"dataset\": \"train\", \"loss\": 0.2694394642909368, \"acc\": 0.9070833325386047, \"epoch\": 1}, {\"dataset\": \"train\", \"loss\": 0.14385062495536274, \"acc\": 0.9418055415153503, \"epoch\": 2}, {\"dataset\": \"train\", \"loss\": 0.08760446877280871, \"acc\": 0.965416669845581, \"epoch\": 3}, {\"dataset\": \"train\", \"loss\": 0.05139947119810515, \"acc\": 0.9806666374206543, \"epoch\": 4}, {\"dataset\": \"train\", \"loss\": 0.029165453573792344, \"acc\": 0.9890000224113464, \"epoch\": 5}, {\"dataset\": \"val\", \"loss\": 0.18244659000635147, \"acc\": 0.9070833325386047, \"epoch\": 1}, {\"dataset\": \"val\", \"loss\": 0.1291114151676496, \"acc\": 0.9418055415153503, \"epoch\": 2}, {\"dataset\": \"val\", \"loss\": 0.11540434685349464, \"acc\": 0.965416669845581, \"epoch\": 3}, {\"dataset\": \"val\", \"loss\": 0.12578953094532092, \"acc\": 0.9806666374206543, \"epoch\": 4}, {\"dataset\": \"val\", \"loss\": 0.1571082230148216, \"acc\": 0.9890000224113464, \"epoch\": 5}]}}, {\"mode\": \"vega-lite\"});\n",
       "</script>"
      ],
      "text/plain": [
       "alt.VConcatChart(...)"
      ]
     },
     "execution_count": 12,
     "metadata": {},
     "output_type": "execute_result"
    }
   ],
   "source": [
    "hdf = pd.DataFrame({\n",
    "    'dataset': ['train'] * epochs + ['val'] * epochs,\n",
    "    'loss': history.history['loss'] + history.history['val_loss'],\n",
    "    'acc': history.history['acc'] + history.history['acc'],\n",
    "    'epoch': list(range(1, epochs + 1)) + list(range(1, epochs + 1))\n",
    "})\n",
    "p1 = alt.Chart(hdf).mark_line().encode(\n",
    "    x='epoch',\n",
    "    y='loss',\n",
    "    color='dataset'\n",
    ")\n",
    "p2 = alt.Chart(hdf).mark_line().encode(\n",
    "    x='epoch',\n",
    "    y=alt.Y('acc', scale=alt.Scale(domain=(0.9, 1.0))),\n",
    "    color='dataset'\n",
    ")\n",
    "p1 & p2"
   ]
  },
  {
   "cell_type": "markdown",
   "metadata": {},
   "source": [
    "## predict"
   ]
  },
  {
   "cell_type": "code",
   "execution_count": 13,
   "metadata": {},
   "outputs": [
    {
     "data": {
      "text/plain": [
       "(array([9, 4], dtype=uint8), array([[0.03356259]], dtype=float32))"
      ]
     },
     "execution_count": 13,
     "metadata": {},
     "output_type": "execute_result"
    }
   ],
   "source": [
    "imgs = random.choices(range(10000), k=2)\n",
    "\n",
    "results = model.predict([\n",
    "    x_test[imgs[0]].reshape((-1, 28, 28, 1)),\n",
    "    x_test[imgs[1]].reshape((-1, 28, 28, 1))])\n",
    "\n",
    "y_test[imgs], results"
   ]
  },
  {
   "cell_type": "code",
   "execution_count": 24,
   "metadata": {},
   "outputs": [
    {
     "data": {
      "text/plain": [
       "(array([3, 3], dtype=uint8), array([[0.99395627]], dtype=float32))"
      ]
     },
     "execution_count": 24,
     "metadata": {},
     "output_type": "execute_result"
    }
   ],
   "source": [
    "imgs = random.choices(range(10000), k=2)\n",
    "\n",
    "results = model.predict([\n",
    "    x_test[imgs[0]].reshape((-1, 28, 28, 1)),\n",
    "    x_test[imgs[1]].reshape((-1, 28, 28, 1))])\n",
    "\n",
    "y_test[imgs], results"
   ]
  }
 ],
 "metadata": {
  "kernelspec": {
   "display_name": "Python 3",
   "language": "python",
   "name": "python3"
  },
  "language_info": {
   "codemirror_mode": {
    "name": "ipython",
    "version": 3
   },
   "file_extension": ".py",
   "mimetype": "text/x-python",
   "name": "python",
   "nbconvert_exporter": "python",
   "pygments_lexer": "ipython3",
   "version": "3.7.5"
  }
 },
 "nbformat": 4,
 "nbformat_minor": 4
}
