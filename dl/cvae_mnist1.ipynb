{
 "cells": [
  {
   "cell_type": "markdown",
   "metadata": {},
   "source": [
    "# Conditional Variational Autoencoder\n",
    "\n",
    "\\begin{align}\n",
    "\\log p(x) &= \\log \\int_z dz q(z | x) \\frac{p(x|z) p(z)}{q(x|z)} \\\\\n",
    "&\\ge \\int_z dz q(z | x) \\log  \\frac{p(x|z) p(z)}{q(x|z)} \\\\\n",
    "&= \\mathbb{E}_{Z \\sim q(z|x)} [\\log p(x|Z)] - \\mathbf{D}_{KL} (q(Z|x) || p(Z))\n",
    "\\end{align}\n",
    "\n",
    "학습 데이타를 잘 반영한다는 것은 maximum likelihood 처리와 비슷하게 $\\prod_{x \\in D} p(x)$를 최대화 하는 확률밀도함수 p(x)를 찾는 것이다. $\\log$를 취하면, $\\mathbb{E}_{X \\sim D} \\log p(X)$로 쓸 수 있다. 우변의 첫 항은 decoder에서 두번 째 항은 encoder와 관련되어 있다.\n",
    "\n",
    "CVAE의 구현을 위한 기초 코드로 Reference 5를 따랐다."
   ]
  },
  {
   "cell_type": "markdown",
   "metadata": {},
   "source": [
    "# 1. Required modules"
   ]
  },
  {
   "cell_type": "code",
   "execution_count": 1,
   "metadata": {},
   "outputs": [],
   "source": [
    "import torch\n",
    "from torch import nn\n",
    "from torch.nn import functional as F\n",
    "import torch.optim as optim\n",
    "from torch.utils.data import DataLoader\n",
    "from torchvision import datasets, transforms\n",
    "from functools import partial\n",
    "\n",
    "import matplotlib.pyplot as plt\n",
    "%matplotlib inline\n",
    "\n",
    "\n",
    "device = torch.device(\"cuda\" if torch.cuda.is_available() else \"cpu\")"
   ]
  },
  {
   "cell_type": "markdown",
   "metadata": {},
   "source": [
    "## 2. Loading the MNIST data"
   ]
  },
  {
   "cell_type": "code",
   "execution_count": 2,
   "metadata": {},
   "outputs": [
    {
     "name": "stdout",
     "output_type": "stream",
     "text": [
      "torch.Size([128, 784]) torch.Size([128, 10])\n"
     ]
    }
   ],
   "source": [
    "class OneHotTarget(object):\n",
    "    def __call__(self, label):\n",
    "        one_hot = torch.zeros(10, dtype=torch.float32)\n",
    "        one_hot[label] = 1.0\n",
    "        return one_hot\n",
    "\n",
    "\n",
    "transform = transforms.Compose([\n",
    "            transforms.ToTensor(),\n",
    "            partial(torch.reshape, shape=(-1,)),\n",
    "])\n",
    "\n",
    "batch_size = 128\n",
    "\n",
    "# Training dataset\n",
    "train_loader = torch.utils.data.DataLoader(\n",
    "    datasets.MNIST(\n",
    "        root='./data',\n",
    "        train=True,\n",
    "        download=True,\n",
    "        transform=transform,\n",
    "        target_transform=OneHotTarget(), \n",
    "    ),\n",
    "    batch_size=batch_size,\n",
    "    shuffle=True)\n",
    "\n",
    "# Test dataset\n",
    "test_loader = torch.utils.data.DataLoader(\n",
    "    datasets.MNIST(\n",
    "        root='./data',\n",
    "        train=False,\n",
    "        download=True,\n",
    "        transform=transform,\n",
    "        target_transform=OneHotTarget(), \n",
    "    ),\n",
    "    batch_size=batch_size,\n",
    "    shuffle=False)\n",
    "\n",
    "# sample, imags shape batch_size x (28*28)+10\n",
    "for imgs, targets in train_loader:\n",
    "    print(imgs.shape, targets.shape)\n",
    "    break"
   ]
  },
  {
   "cell_type": "markdown",
   "metadata": {},
   "source": [
    "## 3. Building a conditional variational autoencoder model"
   ]
  },
  {
   "cell_type": "code",
   "execution_count": 3,
   "metadata": {},
   "outputs": [
    {
     "data": {
      "text/plain": [
       "CVAE(\n",
       "  (fc11): Linear(in_features=794, out_features=512, bias=True)\n",
       "  (mu): Linear(in_features=512, out_features=2, bias=True)\n",
       "  (log_var): Linear(in_features=512, out_features=2, bias=True)\n",
       "  (fc21): Linear(in_features=12, out_features=512, bias=True)\n",
       "  (fc22): Linear(in_features=512, out_features=794, bias=True)\n",
       ")"
      ]
     },
     "execution_count": 3,
     "metadata": {},
     "output_type": "execute_result"
    }
   ],
   "source": [
    "class CVAE(nn.Module):\n",
    "    def __init__(self, nx, ny, nh, nz):\n",
    "        super().__init__()\n",
    "        \n",
    "        self.nz = nz\n",
    "        \n",
    "        # encoder\n",
    "        self.fc11 = nn.Linear(nx + ny, nh)\n",
    "        self.mu = nn.Linear(nh, nz)\n",
    "        self.log_var = nn.Linear(nh, nz)\n",
    "        \n",
    "        # decoder\n",
    "        self.fc21 = nn.Linear(nz + ny, nh)\n",
    "        self.fc22 = nn.Linear(nh, nx + ny)\n",
    "        \n",
    "    def encoder(self, x):\n",
    "        h = F.relu(self.fc11(x))\n",
    "        return self.mu(h), self.log_var(h)\n",
    "    \n",
    "    def decoder(self, z, y):\n",
    "        z = torch.cat([z, y], axis=1)\n",
    "        h = F.relu(self.fc21(z))\n",
    "        return torch.sigmoid(self.fc22(h))\n",
    "    \n",
    "    def sample_z(self, mu, log_var):\n",
    "        std = torch.exp(0.5 * log_var)\n",
    "        eps = torch.randn_like(std)\n",
    "        return eps.mul(std).add_(mu)\n",
    "    \n",
    "    def forward(self, x, y):\n",
    "        mu, log_var = self.encoder(x)\n",
    "        z = self.sample_z(mu, log_var)\n",
    "        return self.decoder(z, y), mu, log_var\n",
    "    \n",
    "\n",
    "cvae = CVAE(nx=784, ny=10, nh=512, nz=2)\n",
    "cvae.to(device)\n",
    "cvae"
   ]
  },
  {
   "cell_type": "markdown",
   "metadata": {},
   "source": [
    "\\begin{align}\n",
    "\\mathcal{D}_{KL} [ \\mathcal{N} (\\mu_0, \\Sigma_0) || \\mathcal{N} (0, I)] = \\frac{1}{2} \\sum_k \\left( \\exp(\\Sigma(X)) + \\mu^2 (X) - 1 - \\Sigma(X)\\right)\n",
    "\\end{align}\n",
    "\n",
    "#### Non-negative Kullback-Leibler divergence\n",
    "\n",
    "\\begin{align}\n",
    "\\mathcal{D}_{KL} &= \\mathbb{E}_{P} \\log \\frac{P}{Q} \\\\\n",
    "&= \\mathbb{E}_{P} \\left(- \\log \\frac{Q}{P} \\right) \\\\\n",
    "&\\stackrel{\\text{Jensen's inequility}}{\\ge} -log \\mathbb{E}_{P} \\frac{Q}{P} \\; \\because -\\log(x) \\; \\text{is a convex function}\\\\\n",
    "&= - \\log 1 \\\\\n",
    "&= 0\n",
    "\\end{align}"
   ]
  },
  {
   "cell_type": "code",
   "execution_count": 4,
   "metadata": {},
   "outputs": [],
   "source": [
    "optimizer = optim.Adam(cvae.parameters())\n",
    "\n",
    "\n",
    "def loss_function(recon_x, x, mu, log_var):\n",
    "    BCE = -F.binary_cross_entropy(recon_x, x, reduction='sum')\n",
    "    DKL = 0.5 * torch.sum(log_var.exp() + mu.pow(2) - 1 - log_var)\n",
    "    return -(BCE - DKL)  # first minus sign to maximize\n",
    "\n",
    "def train(epoch):\n",
    "    cvae.train()\n",
    "    train_loss = 0\n",
    "    for batch_idx, (x, y) in enumerate(train_loader):\n",
    "        x, y = x.to(device), y.to(device)\n",
    "        optimizer.zero_grad()\n",
    "        xy = torch.cat([x, y], axis=1)\n",
    "        recon_batch, mu, log_var = cvae(xy, y)\n",
    "        loss = loss_function(recon_batch, xy, mu, log_var)\n",
    "        loss.backward()\n",
    "        train_loss += loss.item()\n",
    "        optimizer.step()\n",
    "\n",
    "    return train_loss / len(train_loader.dataset)"
   ]
  },
  {
   "cell_type": "code",
   "execution_count": 5,
   "metadata": {},
   "outputs": [
    {
     "name": "stderr",
     "output_type": "stream",
     "text": [
      "Epoch: 20, loss: 130.97: 100%|██████████| 20/20 [01:52<00:00,  5.60s/it]\n"
     ]
    }
   ],
   "source": [
    "from tqdm import tqdm\n",
    "\n",
    "epochs = 20\n",
    "\n",
    "pbar = tqdm(range(epochs))\n",
    "for epoch in pbar:\n",
    "    loss = train(epoch)\n",
    "    pbar.set_description(f'Epoch: {epoch + 1}, loss: {loss:.2f}')"
   ]
  },
  {
   "cell_type": "code",
   "execution_count": 6,
   "metadata": {},
   "outputs": [],
   "source": [
    "number = 5\n",
    "\n",
    "with torch.no_grad():\n",
    "    z = torch.randn(5, 2, dtype=torch.float32).to(device)\n",
    "    one_hot = torch.zeros(5, 10, dtype=torch.float32).to(device)\n",
    "    one_hot[:, number] = 1.0\n",
    "    sample = cvae.decoder(z, one_hot).cpu()\n",
    "    sample = sample[:, :-10]"
   ]
  },
  {
   "cell_type": "code",
   "execution_count": 7,
   "metadata": {},
   "outputs": [
    {
     "data": {
      "image/png": "[encoded data removed]",
      "text/plain": [
       "<Figure size 864x216 with 5 Axes>"
      ]
     },
     "metadata": {
      "needs_background": "light"
     },
     "output_type": "display_data"
    }
   ],
   "source": [
    "import matplotlib.pyplot as plt\n",
    "%matplotlib inline\n",
    "\n",
    "fig, axs = plt.subplots(1, 5, figsize=(12, 3))\n",
    "for i, ax in enumerate(axs):\n",
    "    ax.imshow(sample[i].view(28, -1))"
   ]
  },
  {
   "cell_type": "markdown",
   "metadata": {},
   "source": [
    "## Reference\n",
    "\n",
    "1. D. Carl, Tutorial on variational autoencoders, arXiv:1606.05908v2, 2016\n",
    "2. R.G. Krishnan, U. Shalit, D. Sontag, Deep Kalman Filters, arXiv:1511.05121v2, 2015\n",
    "3. J. Duchi, [Derivations for linear algebra and optimization](http://web.stanford.edu/~jduchi/projects/general_notes.pdf)\n",
    "4. A. Kristladl, [Variational autoencoder: intuition and implementation](https://wiseodd.github.io/techblog/2016/12/10/variational-autoencoder/), blog post 2016\n",
    "5. https://github.com/lyeoni/pytorch-mnist-VAE\n",
    "6. [mxnet variational autoencoder example](https://github.com/apache/incubator-mxnet/tree/master/example/autoencoder/variational_autoencoder)"
   ]
  }
 ],
 "metadata": {
  "kernelspec": {
   "display_name": "Python 3",
   "language": "python",
   "name": "python3"
  },
  "language_info": {
   "codemirror_mode": {
    "name": "ipython",
    "version": 3
   },
   "file_extension": ".py",
   "mimetype": "text/x-python",
   "name": "python",
   "nbconvert_exporter": "python",
   "pygments_lexer": "ipython3",
   "version": "3.7.5"
  }
 },
 "nbformat": 4,
 "nbformat_minor": 4
}
