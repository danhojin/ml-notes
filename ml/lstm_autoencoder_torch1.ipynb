{
 "cells": [
  {
   "cell_type": "markdown",
   "metadata": {},
   "source": [
    "# LSTM autoencoder in torch\n",
    "\n",
    "A reconstruction LSTM autoencoder in pytorch is listed below. The original Keras model and its explanation can be found in a blog by Jason Brownlee at \n",
    "https://machinelearningmastery.com/lstm-autoencoders/"
   ]
  },
  {
   "cell_type": "code",
   "execution_count": 1,
   "metadata": {},
   "outputs": [],
   "source": [
    "import numpy as np\n",
    "import torch\n",
    "import torch.nn as nn\n",
    "import torch.nn.functional as F\n",
    "\n",
    "\n",
    "device = torch.device('cuda' if torch.cuda.is_available() else 'cpu')"
   ]
  },
  {
   "cell_type": "code",
   "execution_count": 2,
   "metadata": {},
   "outputs": [],
   "source": [
    "class LSTMAutoencoder(nn.Module):\n",
    "    def __init__(self, input_dim, hidden_dim=100):\n",
    "        super().__init__()\n",
    "        n_layers = 1\n",
    "        # n_layers, batch_size, hidden_dim)\n",
    "        self.lstm_1 = nn.LSTM(input_dim, hidden_dim, n_layers, batch_first=True)\n",
    "        self.lstm_2 = nn.LSTM(hidden_dim, hidden_dim, n_layers, batch_first=True)\n",
    "        self.linear = nn.Linear(100, 1)\n",
    "        \n",
    "    def forward(self, x):\n",
    "        seq_len = x.size()[1]\n",
    "        # encoding\n",
    "        # [batch_size, seq_len, input_dim]\n",
    "        x, (hidden_state, cell_state) = self.lstm_1(x)\n",
    "        # [batch_size, seq_len, hidden_dim]\n",
    "        \n",
    "        # decoding\n",
    "        x = F.relu(x[:, -1, :])\n",
    "        # [batch_size, hidden_dim]\n",
    "        x = x.unsqueeze(1).repeat(1, seq_len, 1)\n",
    "        # [batch_size, seq_len, hidden_dim]\n",
    "        x, (hidden_state, cell_state) = self.lstm_2(x)\n",
    "        # [batch_size, seq_len, hidden_dim]\n",
    "        x = F.relu(x)\n",
    "        x = torch.cat([\n",
    "            self.linear(x[:, i, :]).unsqueeze(1) for i in range(seq_len)],\n",
    "            1)\n",
    "        # [batch_size, seq_len, 1]\n",
    "        return x"
   ]
  },
  {
   "cell_type": "code",
   "execution_count": 3,
   "metadata": {},
   "outputs": [
    {
     "name": "stderr",
     "output_type": "stream",
     "text": [
      "loss: 0.0000: 100%|██████████| 300/300 [00:01<00:00, 191.95it/s]\n"
     ]
    }
   ],
   "source": [
    "from tqdm import tqdm\n",
    "\n",
    "epochs = 300\n",
    "seq_len = 9\n",
    "seq = np.linspace(0.1, 0.9, seq_len).reshape((1, -1, 1)).astype(np.float32)\n",
    "\n",
    "model = LSTMAutoencoder(1).to(device)\n",
    "criterion = nn.MSELoss()\n",
    "optimizer = torch.optim.Adam(\n",
    "    model.parameters(),\n",
    ")\n",
    "\n",
    "inp = torch.from_numpy(seq).to(device)\n",
    "pbar = tqdm(range(epochs))\n",
    "for epoch in pbar:\n",
    "    model.train()\n",
    "    optimizer.zero_grad()\n",
    "    output = model(inp)\n",
    "    loss = criterion(output, inp)\n",
    "    loss.backward()\n",
    "    optimizer.step()\n",
    "    pbar.set_description(f'loss: {loss.item():.4f}')"
   ]
  },
  {
   "cell_type": "code",
   "execution_count": 4,
   "metadata": {},
   "outputs": [
    {
     "data": {
      "text/plain": [
       "tensor([0.1081, 0.1970, 0.2959, 0.3959, 0.4984, 0.6028, 0.7061, 0.8044, 0.8923],\n",
       "       device='cuda:0', grad_fn=<SelectBackward>)"
      ]
     },
     "execution_count": 4,
     "metadata": {},
     "output_type": "execute_result"
    }
   ],
   "source": [
    "model.eval()\n",
    "yhat = model(inp)\n",
    "yhat[0, :, 0]"
   ]
  }
 ],
 "metadata": {
  "kernelspec": {
   "display_name": "Python 3",
   "language": "python",
   "name": "python3"
  },
  "language_info": {
   "codemirror_mode": {
    "name": "ipython",
    "version": 3
   },
   "file_extension": ".py",
   "mimetype": "text/x-python",
   "name": "python",
   "nbconvert_exporter": "python",
   "pygments_lexer": "ipython3",
   "version": "3.7.5"
  }
 },
 "nbformat": 4,
 "nbformat_minor": 4
}
