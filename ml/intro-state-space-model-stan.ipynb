{
 "cells": [
  {
   "cell_type": "markdown",
   "metadata": {},
   "source": [
    "# 12.1 상태공간 모델 시작\n",
    "\n",
    "데이터 분석을 위한 베이지안 통계 모델링 with Stan & R"
   ]
  },
  {
   "cell_type": "code",
   "execution_count": 1,
   "metadata": {},
   "outputs": [
    {
     "name": "stderr",
     "output_type": "stream",
     "text": [
      "── \u001b[1mAttaching packages\u001b[22m ─────────────────────────────────────── tidyverse 1.3.0 ──\n",
      "\n",
      "\u001b[32m✔\u001b[39m \u001b[34mggplot2\u001b[39m 3.3.2     \u001b[32m✔\u001b[39m \u001b[34mpurrr  \u001b[39m 0.3.4\n",
      "\u001b[32m✔\u001b[39m \u001b[34mtibble \u001b[39m 3.0.3     \u001b[32m✔\u001b[39m \u001b[34mdplyr  \u001b[39m 1.0.1\n",
      "\u001b[32m✔\u001b[39m \u001b[34mtidyr  \u001b[39m 1.1.1     \u001b[32m✔\u001b[39m \u001b[34mstringr\u001b[39m 1.4.0\n",
      "\u001b[32m✔\u001b[39m \u001b[34mreadr  \u001b[39m 1.3.1     \u001b[32m✔\u001b[39m \u001b[34mforcats\u001b[39m 0.5.0\n",
      "\n",
      "── \u001b[1mConflicts\u001b[22m ────────────────────────────────────────── tidyverse_conflicts() ──\n",
      "\u001b[31m✖\u001b[39m \u001b[34mdplyr\u001b[39m::\u001b[32mfilter()\u001b[39m masks \u001b[34mstats\u001b[39m::filter()\n",
      "\u001b[31m✖\u001b[39m \u001b[34mdplyr\u001b[39m::\u001b[32mlag()\u001b[39m    masks \u001b[34mstats\u001b[39m::lag()\n",
      "\n",
      "Loading required package: StanHeaders\n",
      "\n",
      "rstan (Version 2.21.2, GitRev: 2e1f913d3ca3)\n",
      "\n",
      "For execution on a local, multicore CPU with excess RAM we recommend calling\n",
      "options(mc.cores = parallel::detectCores()).\n",
      "To avoid recompilation of unchanged Stan programs, we recommend calling\n",
      "rstan_options(auto_write = TRUE)\n",
      "\n",
      "\n",
      "Attaching package: ‘rstan’\n",
      "\n",
      "\n",
      "The following object is masked from ‘package:tidyr’:\n",
      "\n",
      "    extract\n",
      "\n",
      "\n"
     ]
    }
   ],
   "source": [
    "library(tidyverse)\n",
    "library(stringr)\n",
    "library(rstan)"
   ]
  },
  {
   "cell_type": "code",
   "execution_count": 2,
   "metadata": {},
   "outputs": [
    {
     "name": "stderr",
     "output_type": "stream",
     "text": [
      "Parsed with column specification:\n",
      "cols(\n",
      "  X = \u001b[32mcol_double()\u001b[39m,\n",
      "  Y = \u001b[32mcol_double()\u001b[39m\n",
      ")\n",
      "\n"
     ]
    },
    {
     "data": {
      "text/html": [
       "<table>\n",
       "<caption>A spec_tbl_df: 21 × 2</caption>\n",
       "<thead>\n",
       "\t<tr><th scope=col>X</th><th scope=col>Y</th></tr>\n",
       "\t<tr><th scope=col>&lt;dbl&gt;</th><th scope=col>&lt;dbl&gt;</th></tr>\n",
       "</thead>\n",
       "<tbody>\n",
       "\t<tr><td> 1</td><td>11.2</td></tr>\n",
       "\t<tr><td> 2</td><td>11.0</td></tr>\n",
       "\t<tr><td> 3</td><td>11.3</td></tr>\n",
       "\t<tr><td> 4</td><td>10.8</td></tr>\n",
       "\t<tr><td> 5</td><td>10.8</td></tr>\n",
       "\t<tr><td> 6</td><td>11.3</td></tr>\n",
       "\t<tr><td> 7</td><td>11.1</td></tr>\n",
       "\t<tr><td> 8</td><td>11.0</td></tr>\n",
       "\t<tr><td> 9</td><td>11.4</td></tr>\n",
       "\t<tr><td>10</td><td>11.7</td></tr>\n",
       "\t<tr><td>11</td><td>12.5</td></tr>\n",
       "\t<tr><td>12</td><td>12.6</td></tr>\n",
       "\t<tr><td>13</td><td>12.8</td></tr>\n",
       "\t<tr><td>14</td><td>13.0</td></tr>\n",
       "\t<tr><td>15</td><td>13.0</td></tr>\n",
       "\t<tr><td>16</td><td>13.6</td></tr>\n",
       "\t<tr><td>17</td><td>13.3</td></tr>\n",
       "\t<tr><td>18</td><td>12.6</td></tr>\n",
       "\t<tr><td>19</td><td>13.1</td></tr>\n",
       "\t<tr><td>20</td><td>12.6</td></tr>\n",
       "\t<tr><td>21</td><td>12.1</td></tr>\n",
       "</tbody>\n",
       "</table>\n"
      ],
      "text/latex": [
       "A spec\\_tbl\\_df: 21 × 2\n",
       "\\begin{tabular}{ll}\n",
       " X & Y\\\\\n",
       " <dbl> & <dbl>\\\\\n",
       "\\hline\n",
       "\t  1 & 11.2\\\\\n",
       "\t  2 & 11.0\\\\\n",
       "\t  3 & 11.3\\\\\n",
       "\t  4 & 10.8\\\\\n",
       "\t  5 & 10.8\\\\\n",
       "\t  6 & 11.3\\\\\n",
       "\t  7 & 11.1\\\\\n",
       "\t  8 & 11.0\\\\\n",
       "\t  9 & 11.4\\\\\n",
       "\t 10 & 11.7\\\\\n",
       "\t 11 & 12.5\\\\\n",
       "\t 12 & 12.6\\\\\n",
       "\t 13 & 12.8\\\\\n",
       "\t 14 & 13.0\\\\\n",
       "\t 15 & 13.0\\\\\n",
       "\t 16 & 13.6\\\\\n",
       "\t 17 & 13.3\\\\\n",
       "\t 18 & 12.6\\\\\n",
       "\t 19 & 13.1\\\\\n",
       "\t 20 & 12.6\\\\\n",
       "\t 21 & 12.1\\\\\n",
       "\\end{tabular}\n"
      ],
      "text/markdown": [
       "\n",
       "A spec_tbl_df: 21 × 2\n",
       "\n",
       "| X &lt;dbl&gt; | Y &lt;dbl&gt; |\n",
       "|---|---|\n",
       "|  1 | 11.2 |\n",
       "|  2 | 11.0 |\n",
       "|  3 | 11.3 |\n",
       "|  4 | 10.8 |\n",
       "|  5 | 10.8 |\n",
       "|  6 | 11.3 |\n",
       "|  7 | 11.1 |\n",
       "|  8 | 11.0 |\n",
       "|  9 | 11.4 |\n",
       "| 10 | 11.7 |\n",
       "| 11 | 12.5 |\n",
       "| 12 | 12.6 |\n",
       "| 13 | 12.8 |\n",
       "| 14 | 13.0 |\n",
       "| 15 | 13.0 |\n",
       "| 16 | 13.6 |\n",
       "| 17 | 13.3 |\n",
       "| 18 | 12.6 |\n",
       "| 19 | 13.1 |\n",
       "| 20 | 12.6 |\n",
       "| 21 | 12.1 |\n",
       "\n"
      ],
      "text/plain": [
       "   X  Y   \n",
       "1   1 11.2\n",
       "2   2 11.0\n",
       "3   3 11.3\n",
       "4   4 10.8\n",
       "5   5 10.8\n",
       "6   6 11.3\n",
       "7   7 11.1\n",
       "8   8 11.0\n",
       "9   9 11.4\n",
       "10 10 11.7\n",
       "11 11 12.5\n",
       "12 12 12.6\n",
       "13 13 12.8\n",
       "14 14 13.0\n",
       "15 15 13.0\n",
       "16 16 13.6\n",
       "17 17 13.3\n",
       "18 18 12.6\n",
       "19 19 13.1\n",
       "20 20 12.6\n",
       "21 21 12.1"
      ]
     },
     "metadata": {},
     "output_type": "display_data"
    }
   ],
   "source": [
    "tbl <- read_csv(\"data/data-ss1.txt\")\n",
    "tbl"
   ]
  },
  {
   "cell_type": "code",
   "execution_count": 3,
   "metadata": {},
   "outputs": [
    {
     "data": {
      "image/png": "[encoded data removed]",
      "text/plain": [
       "Plot with title “Series  tbl$Y”"
      ]
     },
     "metadata": {
      "image/png": {
       "height": 420,
       "width": 420
      }
     },
     "output_type": "display_data"
    }
   ],
   "source": [
    "acf(tbl$Y)"
   ]
  },
  {
   "cell_type": "code",
   "execution_count": 4,
   "metadata": {},
   "outputs": [
    {
     "name": "stdout",
     "output_type": "stream",
     "text": [
      "\n",
      "SAMPLING FOR MODEL 'ed32c38526f8029062fb03dac6a6d659' NOW (CHAIN 1).\n",
      "Chain 1: \n",
      "Chain 1: Gradient evaluation took 1e-05 seconds\n",
      "Chain 1: 1000 transitions using 10 leapfrog steps per transition would take 0.1 seconds.\n",
      "Chain 1: Adjust your expectations accordingly!\n",
      "Chain 1: \n",
      "Chain 1: \n",
      "Chain 1: Iteration:    1 / 2000 [  0%]  (Warmup)\n",
      "Chain 1: Iteration:  200 / 2000 [ 10%]  (Warmup)\n",
      "Chain 1: Iteration:  400 / 2000 [ 20%]  (Warmup)\n",
      "Chain 1: Iteration:  600 / 2000 [ 30%]  (Warmup)\n",
      "Chain 1: Iteration:  800 / 2000 [ 40%]  (Warmup)\n",
      "Chain 1: Iteration: 1000 / 2000 [ 50%]  (Warmup)\n",
      "Chain 1: Iteration: 1001 / 2000 [ 50%]  (Sampling)\n",
      "Chain 1: Iteration: 1200 / 2000 [ 60%]  (Sampling)\n",
      "Chain 1: Iteration: 1400 / 2000 [ 70%]  (Sampling)\n",
      "Chain 1: Iteration: 1600 / 2000 [ 80%]  (Sampling)\n",
      "Chain 1: Iteration: 1800 / 2000 [ 90%]  (Sampling)\n",
      "Chain 1: Iteration: 2000 / 2000 [100%]  (Sampling)\n",
      "Chain 1: \n",
      "Chain 1:  Elapsed Time: 0.077598 seconds (Warm-up)\n",
      "Chain 1:                0.067778 seconds (Sampling)\n",
      "Chain 1:                0.145376 seconds (Total)\n",
      "Chain 1: \n",
      "\n",
      "SAMPLING FOR MODEL 'ed32c38526f8029062fb03dac6a6d659' NOW (CHAIN 2).\n",
      "Chain 2: \n",
      "Chain 2: Gradient evaluation took 7e-06 seconds\n",
      "Chain 2: 1000 transitions using 10 leapfrog steps per transition would take 0.07 seconds.\n",
      "Chain 2: Adjust your expectations accordingly!\n",
      "Chain 2: \n",
      "Chain 2: \n",
      "Chain 2: Iteration:    1 / 2000 [  0%]  (Warmup)\n",
      "Chain 2: Iteration:  200 / 2000 [ 10%]  (Warmup)\n",
      "Chain 2: Iteration:  400 / 2000 [ 20%]  (Warmup)\n",
      "Chain 2: Iteration:  600 / 2000 [ 30%]  (Warmup)\n",
      "Chain 2: Iteration:  800 / 2000 [ 40%]  (Warmup)\n",
      "Chain 2: Iteration: 1000 / 2000 [ 50%]  (Warmup)\n",
      "Chain 2: Iteration: 1001 / 2000 [ 50%]  (Sampling)\n",
      "Chain 2: Iteration: 1200 / 2000 [ 60%]  (Sampling)\n",
      "Chain 2: Iteration: 1400 / 2000 [ 70%]  (Sampling)\n",
      "Chain 2: Iteration: 1600 / 2000 [ 80%]  (Sampling)\n",
      "Chain 2: Iteration: 1800 / 2000 [ 90%]  (Sampling)\n",
      "Chain 2: Iteration: 2000 / 2000 [100%]  (Sampling)\n",
      "Chain 2: \n",
      "Chain 2:  Elapsed Time: 0.045147 seconds (Warm-up)\n",
      "Chain 2:                0.106912 seconds (Sampling)\n",
      "Chain 2:                0.152059 seconds (Total)\n",
      "Chain 2: \n",
      "\n",
      "SAMPLING FOR MODEL 'ed32c38526f8029062fb03dac6a6d659' NOW (CHAIN 3).\n",
      "Chain 3: \n",
      "Chain 3: Gradient evaluation took 6e-06 seconds\n",
      "Chain 3: 1000 transitions using 10 leapfrog steps per transition would take 0.06 seconds.\n",
      "Chain 3: Adjust your expectations accordingly!\n",
      "Chain 3: \n",
      "Chain 3: \n",
      "Chain 3: Iteration:    1 / 2000 [  0%]  (Warmup)\n",
      "Chain 3: Iteration:  200 / 2000 [ 10%]  (Warmup)\n",
      "Chain 3: Iteration:  400 / 2000 [ 20%]  (Warmup)\n",
      "Chain 3: Iteration:  600 / 2000 [ 30%]  (Warmup)\n",
      "Chain 3: Iteration:  800 / 2000 [ 40%]  (Warmup)\n",
      "Chain 3: Iteration: 1000 / 2000 [ 50%]  (Warmup)\n",
      "Chain 3: Iteration: 1001 / 2000 [ 50%]  (Sampling)\n",
      "Chain 3: Iteration: 1200 / 2000 [ 60%]  (Sampling)\n",
      "Chain 3: Iteration: 1400 / 2000 [ 70%]  (Sampling)\n",
      "Chain 3: Iteration: 1600 / 2000 [ 80%]  (Sampling)\n",
      "Chain 3: Iteration: 1800 / 2000 [ 90%]  (Sampling)\n",
      "Chain 3: Iteration: 2000 / 2000 [100%]  (Sampling)\n",
      "Chain 3: \n",
      "Chain 3:  Elapsed Time: 0.038936 seconds (Warm-up)\n",
      "Chain 3:                0.040674 seconds (Sampling)\n",
      "Chain 3:                0.07961 seconds (Total)\n",
      "Chain 3: \n",
      "\n",
      "SAMPLING FOR MODEL 'ed32c38526f8029062fb03dac6a6d659' NOW (CHAIN 4).\n",
      "Chain 4: \n",
      "Chain 4: Gradient evaluation took 6e-06 seconds\n",
      "Chain 4: 1000 transitions using 10 leapfrog steps per transition would take 0.06 seconds.\n",
      "Chain 4: Adjust your expectations accordingly!\n",
      "Chain 4: \n",
      "Chain 4: \n",
      "Chain 4: Iteration:    1 / 2000 [  0%]  (Warmup)\n",
      "Chain 4: Iteration:  200 / 2000 [ 10%]  (Warmup)\n",
      "Chain 4: Iteration:  400 / 2000 [ 20%]  (Warmup)\n",
      "Chain 4: Iteration:  600 / 2000 [ 30%]  (Warmup)\n",
      "Chain 4: Iteration:  800 / 2000 [ 40%]  (Warmup)\n",
      "Chain 4: Iteration: 1000 / 2000 [ 50%]  (Warmup)\n",
      "Chain 4: Iteration: 1001 / 2000 [ 50%]  (Sampling)\n",
      "Chain 4: Iteration: 1200 / 2000 [ 60%]  (Sampling)\n",
      "Chain 4: Iteration: 1400 / 2000 [ 70%]  (Sampling)\n",
      "Chain 4: Iteration: 1600 / 2000 [ 80%]  (Sampling)\n",
      "Chain 4: Iteration: 1800 / 2000 [ 90%]  (Sampling)\n",
      "Chain 4: Iteration: 2000 / 2000 [100%]  (Sampling)\n",
      "Chain 4: \n",
      "Chain 4:  Elapsed Time: 0.04706 seconds (Warm-up)\n",
      "Chain 4:                0.051947 seconds (Sampling)\n",
      "Chain 4:                0.099007 seconds (Total)\n",
      "Chain 4: \n"
     ]
    },
    {
     "name": "stderr",
     "output_type": "stream",
     "text": [
      "Warning message:\n",
      "“There were 4 chains where the estimated Bayesian Fraction of Missing Information was low. See\n",
      "http://mc-stan.org/misc/warnings.html#bfmi-low”\n",
      "Warning message:\n",
      "“Examine the pairs() plot to diagnose sampling problems\n",
      "”\n",
      "Warning message:\n",
      "“Bulk Effective Samples Size (ESS) is too low, indicating posterior means and medians may be unreliable.\n",
      "Running the chains for more iterations may help. See\n",
      "http://mc-stan.org/misc/warnings.html#bulk-ess”\n",
      "Warning message:\n",
      "“Tail Effective Samples Size (ESS) is too low, indicating posterior variances and tail quantiles may be unreliable.\n",
      "Running the chains for more iterations may help. See\n",
      "http://mc-stan.org/misc/warnings.html#tail-ess”\n"
     ]
    }
   ],
   "source": [
    "stan_code = \"\n",
    "data {\n",
    "  int T;\n",
    "  int T_pred;\n",
    "  vector[T] Y;\n",
    "}\n",
    "\n",
    "parameters {\n",
    "  vector[T] mu;\n",
    "  real<lower=0> s_mu;\n",
    "  real<lower=0> s_Y;\n",
    "}\n",
    "\n",
    "model {\n",
    "  mu[2:T] ~ normal(mu[1:(T - 1)], s_mu);\n",
    "  Y ~ normal(mu, s_Y);\n",
    "}\n",
    "\n",
    "generated quantities {\n",
    "  vector[T + T_pred] mu_all;\n",
    "  vector[T_pred] y_pred;\n",
    "  mu_all[1:T] = mu;\n",
    "  for (t in 1:T_pred) {\n",
    "    mu_all[T + t] = normal_rng(mu_all[T + t - 1], s_mu);\n",
    "    y_pred[t] = normal_rng(mu_all[T + t], s_Y);\n",
    "  }\n",
    "}\n",
    "\"\n",
    "\n",
    "fit <- stan(model_code = stan_code,\n",
    "            data = list(T = 21, T_pred = 5, Y = tbl$Y),\n",
    "            verbose = FALSE)\n",
    "fit_ss <- rstan::extract(fit)"
   ]
  },
  {
   "cell_type": "code",
   "execution_count": 5,
   "metadata": {},
   "outputs": [
    {
     "name": "stderr",
     "output_type": "stream",
     "text": [
      "Warning message:\n",
      "“The `x` argument of `as_tibble.matrix()` must have unique column names if `.name_repair` is omitted as of tibble 2.0.0.\n",
      "Using compatibility `.name_repair`.\n",
      "\u001b[90mThis warning is displayed once every 8 hours.\u001b[39m\n",
      "\u001b[90mCall `lifecycle::last_warnings()` to see where this warning was generated.\u001b[39m”\n"
     ]
    },
    {
     "data": {
      "text/html": [
       "<table>\n",
       "<caption>A tibble: 5 × 4</caption>\n",
       "<thead>\n",
       "\t<tr><th scope=col>q</th><th scope=col>name</th><th scope=col>value</th><th scope=col>x</th></tr>\n",
       "\t<tr><th scope=col>&lt;chr&gt;</th><th scope=col>&lt;chr&gt;</th><th scope=col>&lt;dbl&gt;</th><th scope=col>&lt;dbl&gt;</th></tr>\n",
       "</thead>\n",
       "<tbody>\n",
       "\t<tr><td>10%</td><td>V1</td><td>10.99652</td><td>1</td></tr>\n",
       "\t<tr><td>10%</td><td>V2</td><td>10.88970</td><td>2</td></tr>\n",
       "\t<tr><td>10%</td><td>V3</td><td>11.01720</td><td>3</td></tr>\n",
       "\t<tr><td>10%</td><td>V4</td><td>10.70071</td><td>4</td></tr>\n",
       "\t<tr><td>10%</td><td>V5</td><td>10.70675</td><td>5</td></tr>\n",
       "</tbody>\n",
       "</table>\n"
      ],
      "text/latex": [
       "A tibble: 5 × 4\n",
       "\\begin{tabular}{llll}\n",
       " q & name & value & x\\\\\n",
       " <chr> & <chr> & <dbl> & <dbl>\\\\\n",
       "\\hline\n",
       "\t 10\\% & V1 & 10.99652 & 1\\\\\n",
       "\t 10\\% & V2 & 10.88970 & 2\\\\\n",
       "\t 10\\% & V3 & 11.01720 & 3\\\\\n",
       "\t 10\\% & V4 & 10.70071 & 4\\\\\n",
       "\t 10\\% & V5 & 10.70675 & 5\\\\\n",
       "\\end{tabular}\n"
      ],
      "text/markdown": [
       "\n",
       "A tibble: 5 × 4\n",
       "\n",
       "| q &lt;chr&gt; | name &lt;chr&gt; | value &lt;dbl&gt; | x &lt;dbl&gt; |\n",
       "|---|---|---|---|\n",
       "| 10% | V1 | 10.99652 | 1 |\n",
       "| 10% | V2 | 10.88970 | 2 |\n",
       "| 10% | V3 | 11.01720 | 3 |\n",
       "| 10% | V4 | 10.70071 | 4 |\n",
       "| 10% | V5 | 10.70675 | 5 |\n",
       "\n"
      ],
      "text/plain": [
       "  q   name value    x\n",
       "1 10% V1   10.99652 1\n",
       "2 10% V2   10.88970 2\n",
       "3 10% V3   11.01720 3\n",
       "4 10% V4   10.70071 4\n",
       "5 10% V5   10.70675 5"
      ]
     },
     "metadata": {},
     "output_type": "display_data"
    }
   ],
   "source": [
    "tbl_ci <- fit_ss$mu_all\n",
    "tbl_ci <- as_tibble(tbl_ci) %>%\n",
    "  map(function(x) quantile(x, c(0.1, 0.25, 0.5, 0.75, 0.9))) %>%\n",
    "  as_tibble() %>%\n",
    "  mutate(q = c(\"10%\", \"25%\", \"50%\", \"75%\", \"90%\")) %>%\n",
    "  pivot_longer(cols = -q) %>%\n",
    "  mutate(x = str_sub(name, start = 2L),\n",
    "         x = as.double(x))\n",
    "tbl_ci[1:5,]"
   ]
  },
  {
   "cell_type": "code",
   "execution_count": 6,
   "metadata": {},
   "outputs": [
    {
     "data": {
      "image/png": "[encoded data removed]",
      "text/plain": [
       "plot without title"
      ]
     },
     "metadata": {
      "image/png": {
       "height": 420,
       "width": 420
      }
     },
     "output_type": "display_data"
    }
   ],
   "source": [
    "ggplot() +\n",
    "geom_ribbon(data = tbl_ci %>% pivot_wider(names_from = q, values_from = value),\n",
    "            aes(x = x, ymin = `10%`, ymax = `90%`), alpha = 0.3) +\n",
    "geom_ribbon(data = tbl_ci %>% pivot_wider(names_from = q, values_from = value),\n",
    "            aes(x = x, ymin = `25%`, ymax = `75%`), alpha = 0.3) +\n",
    "geom_line(data = tbl_ci, aes(x = x, y = value, group = q), alpha = 0.5) +\n",
    "geom_point(data = tbl, aes(x = X, y = Y))"
   ]
  },
  {
   "cell_type": "code",
   "execution_count": null,
   "metadata": {},
   "outputs": [],
   "source": []
  }
 ],
 "metadata": {
  "kernelspec": {
   "display_name": "R",
   "language": "R",
   "name": "ir"
  },
  "language_info": {
   "codemirror_mode": "r",
   "file_extension": ".r",
   "mimetype": "text/x-r-source",
   "name": "R",
   "pygments_lexer": "r",
   "version": "4.0.2"
  }
 },
 "nbformat": 4,
 "nbformat_minor": 4
}
